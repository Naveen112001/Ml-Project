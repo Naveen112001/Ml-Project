{
 "cells": [
  {
   "cell_type": "code",
   "execution_count": 31,
   "metadata": {},
   "outputs": [],
   "source": [
    "def User_input(io):\n",
    "    ace=range(0,10)\n",
    "    print(ace)\n",
    "    if io.isdigit():    \n",
    "        ac=int(io)\n",
    "        return True\n",
    "    if ac not in ace:\n",
    "        print(\"Sorry not in range\")\n",
    "        return False\n",
    "    else:\n",
    "        print(\"In range\")\n",
    "        return True\n",
    "    "
   ]
  },
  {
   "cell_type": "code",
   "execution_count": 2,
   "metadata": {},
   "outputs": [],
   "source": [
    "def display(game_diagram):\n",
    "    for x in range(0,3):\n",
    "        for y in range(0,5):\n",
    "            print(game_diagram[x][y],end=\"\")\n",
    "        print()\n",
    "        print(\"-----\")"
   ]
  },
  {
   "cell_type": "code",
   "execution_count": 3,
   "metadata": {},
   "outputs": [
    {
     "name": "stdout",
     "output_type": "stream",
     "text": [
      "Enter the Number in range(0-9)9\n",
      "range(0, 10)\n",
      "Is number\n",
      "In range\n"
     ]
    }
   ],
   "source": [
    "position=input(\"Enter the Number in range(0-9)\")\n",
    "User_input(position)"
   ]
  },
  {
   "cell_type": "code",
   "execution_count": 4,
   "metadata": {},
   "outputs": [
    {
     "name": "stdout",
     "output_type": "stream",
     "text": [
      " | | \n",
      "-----\n",
      " | | \n",
      "-----\n",
      " | | \n",
      "-----\n"
     ]
    }
   ],
   "source": [
    "\n",
    "    game_diagram=[[\" \",\"|\",\" \",\"|\",\" \"],[\" \",\"|\",\" \",\"|\",\" \"],[\" \",\"|\",\" \",\"|\",\" \"],[\" \",\"|\",\" \",\"|\",\" \"]]\n",
    "    display(game_diagram)\n",
    "    "
   ]
  },
  {
   "cell_type": "code",
   "execution_count": 5,
   "metadata": {},
   "outputs": [],
   "source": []
  },
  {
   "cell_type": "code",
   "execution_count": 6,
   "metadata": {},
   "outputs": [],
   "source": [
    "from IPython.display import clear_output\n",
    "def display_board(board):\n",
    "    clear_output()\n",
    "    print('  |   |')\n",
    "    print(''+board[7]+\" | \"+board[8]+\" | \"+board[9])\n",
    "    print('  |   |')\n",
    "    print('----------')\n",
    "    print('  |   |')\n",
    "    print(''+board[4]+\" | \"+board[5]+\" | \"+board[6])\n",
    "    print('  |   |')\n",
    "    print('----------')\n",
    "    print(''+board[1]+\" | \"+board[2]+\" | \"+board[3])\n",
    "    print('  |   |')"
   ]
  },
  {
   "cell_type": "code",
   "execution_count": 7,
   "metadata": {},
   "outputs": [
    {
     "name": "stdout",
     "output_type": "stream",
     "text": [
      "  |   |\n",
      "X | O | O\n",
      "  |   |\n",
      "----------\n",
      "  |   |\n",
      "O | X | O\n",
      "  |   |\n",
      "----------\n",
      "X | X | O\n",
      "  |   |\n"
     ]
    }
   ],
   "source": [
    "test_board=[\"#\",\"X\",\"X\",\"O\",\"O\",\"X\",\"O\",\"X\",\"O\",\"O\"]\n",
    "display_board(test_board)\n",
    "display_board(test_board)"
   ]
  },
  {
   "cell_type": "markdown",
   "metadata": {},
   "source": [
    "#### Getting the input of which the player wants the X or O"
   ]
  },
  {
   "cell_type": "code",
   "execution_count": 8,
   "metadata": {},
   "outputs": [],
   "source": [
    "def player_input():\n",
    "    maker=''\n",
    "    while maker !='X' and maker !=\"O\":\n",
    "        maker=input(\"Player 1: X 0r O :\").upper()\n",
    "        \n",
    "    if maker ==\"X\":\n",
    "        return (\"X\",\"O\")\n",
    "    else:\n",
    "        return(\"O\",\"X\")\n",
    "    "
   ]
  },
  {
   "cell_type": "code",
   "execution_count": 11,
   "metadata": {},
   "outputs": [
    {
     "name": "stdout",
     "output_type": "stream",
     "text": [
      "Player 1: X 0r O :o\n"
     ]
    }
   ],
   "source": [
    "p1,p2=player_input()\n"
   ]
  },
  {
   "cell_type": "code",
   "execution_count": 9,
   "metadata": {},
   "outputs": [
    {
     "ename": "NameError",
     "evalue": "name 'p1' is not defined",
     "output_type": "error",
     "traceback": [
      "\u001b[1;31m---------------------------------------------------------------------------\u001b[0m",
      "\u001b[1;31mNameError\u001b[0m                                 Traceback (most recent call last)",
      "\u001b[1;32m<ipython-input-9-7eee5d7ce100>\u001b[0m in \u001b[0;36m<module>\u001b[1;34m\u001b[0m\n\u001b[1;32m----> 1\u001b[1;33m \u001b[0mp1\u001b[0m\u001b[1;33m\u001b[0m\u001b[1;33m\u001b[0m\u001b[0m\n\u001b[0m",
      "\u001b[1;31mNameError\u001b[0m: name 'p1' is not defined"
     ]
    }
   ],
   "source": [
    "p1\n"
   ]
  },
  {
   "cell_type": "code",
   "execution_count": 13,
   "metadata": {},
   "outputs": [
    {
     "data": {
      "text/plain": [
       "'X'"
      ]
     },
     "execution_count": 13,
     "metadata": {},
     "output_type": "execute_result"
    }
   ],
   "source": [
    "p2"
   ]
  },
  {
   "cell_type": "code",
   "execution_count": 10,
   "metadata": {},
   "outputs": [],
   "source": [
    "def place_maker(board,maker,position):\n",
    "    board[position]=maker"
   ]
  },
  {
   "cell_type": "code",
   "execution_count": 11,
   "metadata": {},
   "outputs": [],
   "source": [
    "test_board=[\" \"]*10\n",
    "place_maker(test_board,\"$\",8)"
   ]
  },
  {
   "cell_type": "code",
   "execution_count": 12,
   "metadata": {},
   "outputs": [
    {
     "name": "stdout",
     "output_type": "stream",
     "text": [
      "  |   |\n",
      "  | $ |  \n",
      "  |   |\n",
      "----------\n",
      "  |   |\n",
      "  |   |  \n",
      "  |   |\n",
      "----------\n",
      "  |   |  \n",
      "  |   |\n"
     ]
    }
   ],
   "source": [
    "display_board(test_board)"
   ]
  },
  {
   "cell_type": "code",
   "execution_count": 13,
   "metadata": {},
   "outputs": [],
   "source": [
    "def win_check(board,mark):\n",
    "    # check in rows all rows have the same column value\n",
    "    return((board[1]==mark and board[2]==mark and board[3]==mark )or\n",
    "    (board[4]==mark and board[5]==mark and board[6]==mark )or\n",
    "    (board[7]==mark and board[8]==mark and board[9]==mark )or\n",
    "    # check in columns having the same Value\n",
    "    (board[1]==mark and board[4]==mark and board[7]==mark )or\n",
    "    (board[2]==mark and board[5]==mark and board[8]==mark )or\n",
    "    (board[3]==mark and board[6]==mark and board[9]==mark )or\n",
    "    # check in main diagonal having same value\n",
    "    (board[1]==mark and board[5]==mark and board[9]==mark )or\n",
    "    # check in sub diagonal having same value\n",
    "    (board[3]==mark and board[5]==mark and board[7]==mark ))"
   ]
  },
  {
   "cell_type": "code",
   "execution_count": 14,
   "metadata": {},
   "outputs": [
    {
     "name": "stdout",
     "output_type": "stream",
     "text": [
      "  |   |\n",
      "  | $ |  \n",
      "  |   |\n",
      "----------\n",
      "  |   |\n",
      "  |   |  \n",
      "  |   |\n",
      "----------\n",
      "  |   |  \n",
      "  |   |\n"
     ]
    }
   ],
   "source": [
    "display_board(test_board)\n",
    "torf=win_check(test_board,\"X\")"
   ]
  },
  {
   "cell_type": "code",
   "execution_count": 15,
   "metadata": {},
   "outputs": [
    {
     "data": {
      "text/plain": [
       "False"
      ]
     },
     "execution_count": 15,
     "metadata": {},
     "output_type": "execute_result"
    }
   ],
   "source": [
    "torf\n"
   ]
  },
  {
   "cell_type": "markdown",
   "metadata": {},
   "source": [
    "#### random take for player to have "
   ]
  },
  {
   "cell_type": "code",
   "execution_count": 23,
   "metadata": {},
   "outputs": [],
   "source": [
    "\n",
    "import numpy as n\n",
    "def choose_first():\n",
    "    flip=n.random.randint(0,2)\n",
    "    if flip==0:\n",
    "        return \"player 1\"\n",
    "    else:\n",
    "        return \"player 2\""
   ]
  },
  {
   "cell_type": "markdown",
   "metadata": {},
   "source": [
    "#### space check for the board and positon"
   ]
  },
  {
   "cell_type": "code",
   "execution_count": 24,
   "metadata": {},
   "outputs": [],
   "source": [
    "# It returns the True of False  \n",
    "def space_check(board,position):\n",
    "    return board[position]==' '"
   ]
  },
  {
   "cell_type": "markdown",
   "metadata": {},
   "source": [
    "#### space check for the complete board"
   ]
  },
  {
   "cell_type": "code",
   "execution_count": 25,
   "metadata": {},
   "outputs": [],
   "source": [
    "def full_board_check(board):\n",
    "    for i in range (1,10):\n",
    "        if space_check(board,i):\n",
    "            return False\n",
    "    return True\n",
    "\n",
    "        "
   ]
  },
  {
   "cell_type": "markdown",
   "metadata": {},
   "source": [
    "#### Players next choice is 0-9 or not"
   ]
  },
  {
   "cell_type": "code",
   "execution_count": 26,
   "metadata": {},
   "outputs": [],
   "source": [
    "def player_choice(board):\n",
    "    position=0\n",
    "    while position not in [1,2,3,4,5,6,7,8,9] or not space_check(board,position):\n",
    "        position=int(input(\"Choice of the player the (0-9)\"))\n",
    "    return position\n"
   ]
  },
  {
   "cell_type": "code",
   "execution_count": 29,
   "metadata": {},
   "outputs": [],
   "source": [
    "def replay():\n",
    "    choice=input(\"To continue the game...\\nEnter the yes  continue or no to not continue\").upper()\n",
    "    if choice=='YES':\n",
    "        return False\n",
    "    else:\n",
    "        return True"
   ]
  },
  {
   "cell_type": "code",
   "execution_count": 32,
   "metadata": {},
   "outputs": [
    {
     "name": "stdout",
     "output_type": "stream",
     "text": [
      "  |   |\n",
      "  |   |  \n",
      "  |   |\n",
      "----------\n",
      "  |   |\n",
      "  |   |  \n",
      "  |   |\n",
      "----------\n",
      "O |   |  \n",
      "  |   |\n",
      "Choice of the player the (0-9)2\n",
      "range(0, 10)\n"
     ]
    },
    {
     "ename": "AttributeError",
     "evalue": "'int' object has no attribute 'isdigit'",
     "output_type": "error",
     "traceback": [
      "\u001b[1;31m---------------------------------------------------------------------------\u001b[0m",
      "\u001b[1;31mAttributeError\u001b[0m                            Traceback (most recent call last)",
      "\u001b[1;32m<ipython-input-32-9d2cd9d7fcba>\u001b[0m in \u001b[0;36m<module>\u001b[1;34m\u001b[0m\n\u001b[0;32m     20\u001b[0m             \u001b[0mposition\u001b[0m\u001b[1;33m=\u001b[0m\u001b[0mplayer_choice\u001b[0m\u001b[1;33m(\u001b[0m\u001b[0mthe_board\u001b[0m\u001b[1;33m)\u001b[0m\u001b[1;33m\u001b[0m\u001b[1;33m\u001b[0m\u001b[0m\n\u001b[0;32m     21\u001b[0m             \u001b[1;31m#place the Marker on the Position\u001b[0m\u001b[1;33m\u001b[0m\u001b[1;33m\u001b[0m\u001b[1;33m\u001b[0m\u001b[0m\n\u001b[1;32m---> 22\u001b[1;33m             \u001b[1;32mif\u001b[0m \u001b[0mUser_input\u001b[0m\u001b[1;33m(\u001b[0m\u001b[0mposition\u001b[0m\u001b[1;33m)\u001b[0m\u001b[1;33m:\u001b[0m\u001b[1;33m\u001b[0m\u001b[1;33m\u001b[0m\u001b[0m\n\u001b[0m\u001b[0;32m     23\u001b[0m                 \u001b[1;32mcontinue\u001b[0m\u001b[1;33m\u001b[0m\u001b[1;33m\u001b[0m\u001b[0m\n\u001b[0;32m     24\u001b[0m             \u001b[0mplace_maker\u001b[0m\u001b[1;33m(\u001b[0m\u001b[0mthe_board\u001b[0m\u001b[1;33m,\u001b[0m\u001b[0mplayer1\u001b[0m\u001b[1;33m,\u001b[0m\u001b[0mposition\u001b[0m\u001b[1;33m)\u001b[0m\u001b[1;33m\u001b[0m\u001b[1;33m\u001b[0m\u001b[0m\n",
      "\u001b[1;32m<ipython-input-31-22dae6f70978>\u001b[0m in \u001b[0;36mUser_input\u001b[1;34m(io)\u001b[0m\n\u001b[0;32m      2\u001b[0m     \u001b[0mace\u001b[0m\u001b[1;33m=\u001b[0m\u001b[0mrange\u001b[0m\u001b[1;33m(\u001b[0m\u001b[1;36m0\u001b[0m\u001b[1;33m,\u001b[0m\u001b[1;36m10\u001b[0m\u001b[1;33m)\u001b[0m\u001b[1;33m\u001b[0m\u001b[1;33m\u001b[0m\u001b[0m\n\u001b[0;32m      3\u001b[0m     \u001b[0mprint\u001b[0m\u001b[1;33m(\u001b[0m\u001b[0mace\u001b[0m\u001b[1;33m)\u001b[0m\u001b[1;33m\u001b[0m\u001b[1;33m\u001b[0m\u001b[0m\n\u001b[1;32m----> 4\u001b[1;33m     \u001b[1;32mif\u001b[0m \u001b[0mio\u001b[0m\u001b[1;33m.\u001b[0m\u001b[0misdigit\u001b[0m\u001b[1;33m(\u001b[0m\u001b[1;33m)\u001b[0m\u001b[1;33m:\u001b[0m\u001b[1;33m\u001b[0m\u001b[1;33m\u001b[0m\u001b[0m\n\u001b[0m\u001b[0;32m      5\u001b[0m         \u001b[0mac\u001b[0m\u001b[1;33m=\u001b[0m\u001b[0mint\u001b[0m\u001b[1;33m(\u001b[0m\u001b[0mio\u001b[0m\u001b[1;33m)\u001b[0m\u001b[1;33m\u001b[0m\u001b[1;33m\u001b[0m\u001b[0m\n\u001b[0;32m      6\u001b[0m         \u001b[1;32mreturn\u001b[0m \u001b[1;32mTrue\u001b[0m\u001b[1;33m\u001b[0m\u001b[1;33m\u001b[0m\u001b[0m\n",
      "\u001b[1;31mAttributeError\u001b[0m: 'int' object has no attribute 'isdigit'"
     ]
    }
   ],
   "source": [
    "# While Keep Running the Game\n",
    "print(\"Welcome TIC TAC TOE\")\n",
    "while True:\n",
    "    #Play the game\n",
    "    the_board=[' ']*10\n",
    "    player1,player2=player_input()\n",
    "    turn=choose_first()\n",
    "    print(turn+\" will go first\")\n",
    "    play_game=input(\"Reaady to play Means Yes or  NO ?:\")\n",
    "    if play_game =='Yes':\n",
    "       \n",
    "        game_on=True\n",
    "    else:\n",
    "        game_on=False\n",
    "    while game_on:\n",
    "        if turn=='Player 1':\n",
    "            #player 1 turn\n",
    "            display_board(the_board)\n",
    "            #choose Position \n",
    "            position=player_choice(the_board)\n",
    "            #place the Marker on the Position\n",
    "            place_maker(the_board,player1,position)\n",
    "            if win_check(the_board,player1):\n",
    "                display_board(the_board)\n",
    "                print(\"Player 1  has Won\")\n",
    "                game_on=False\n",
    "            else:\n",
    "                if full_board_check(the_board):\n",
    "                    display_board(the_board)\n",
    "                    print(\"Tie\")\n",
    "                    game_on=False\n",
    "                else:\n",
    "                    turn='Player 2'\n",
    "        else:\n",
    "            #player 2 turn\n",
    "            display_board(the_board)\n",
    "            #choose Position \n",
    "            position=player_choice(the_board)\n",
    "            #place the Marker on the Position\n",
    "            place_maker(the_board,player2,position)\n",
    "            if win_check(the_board,player2):\n",
    "                display_board(the_board)\n",
    "                print(\"Player 2  has Won\")\n",
    "                game_on=False\n",
    "            else:\n",
    "                if full_board_check(the_board):\n",
    "                    display_board(the_board)\n",
    "                    print(\"Tie\")\n",
    "                    game_on=False\n",
    "                else:\n",
    "                    turn='Player 1'\n",
    "    replay=replay()\n",
    "    if not replay:\n",
    "        break\n",
    "        \n",
    "\n",
    "\n",
    "\n",
    "# Break out of While"
   ]
  },
  {
   "cell_type": "markdown",
   "metadata": {},
   "source": [
    "###### "
   ]
  }
 ],
 "metadata": {
  "kernelspec": {
   "display_name": "Python 3",
   "language": "python",
   "name": "python3"
  },
  "language_info": {
   "codemirror_mode": {
    "name": "ipython",
    "version": 3
   },
   "file_extension": ".py",
   "mimetype": "text/x-python",
   "name": "python",
   "nbconvert_exporter": "python",
   "pygments_lexer": "ipython3",
   "version": "3.7.6"
  }
 },
 "nbformat": 4,
 "nbformat_minor": 4
}
