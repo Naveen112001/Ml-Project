{
  "nbformat": 4,
  "nbformat_minor": 0,
  "metadata": {
    "colab": {
      "name": "Dog_breed.ipynb",
      "provenance": [],
      "mount_file_id": "1QOvCv41X_O9WtBlBdWPBDKZUz20JW-2e",
      "authorship_tag": "ABX9TyMU4TlbDqNsBW5jFLgpMHO8",
      "include_colab_link": true
    },
    "kernelspec": {
      "name": "python3",
      "display_name": "Python 3"
    },
    "accelerator": "GPU"
  },
  "cells": [
    {
      "cell_type": "markdown",
      "metadata": {
        "id": "view-in-github",
        "colab_type": "text"
      },
      "source": [
        "<a href=\"https://colab.research.google.com/github/Naveen112001/Ml-Project/blob/master/ML-Project/Dog%20Vision%20Identification/Dog_breed.ipynb\" target=\"_parent\"><img src=\"https://colab.research.google.com/assets/colab-badge.svg\" alt=\"Open In Colab\"/></a>"
      ]
    },
    {
      "cell_type": "code",
      "metadata": {
        "id": "TNaTr74GiplL",
        "colab_type": "code",
        "colab": {}
      },
      "source": [
        "import pandas as pd"
      ],
      "execution_count": 1,
      "outputs": []
    },
    {
      "cell_type": "code",
      "metadata": {
        "id": "wNY511QpkipX",
        "colab_type": "code",
        "colab": {}
      },
      "source": [
        "import numpy as n"
      ],
      "execution_count": 2,
      "outputs": []
    },
    {
      "cell_type": "code",
      "metadata": {
        "id": "J1P9SQ3vkl0h",
        "colab_type": "code",
        "colab": {}
      },
      "source": [
        "#!unzip \"drive/My Drive/Dogvision/dog-breed-identification.zip\" -d \"drive/My Drive/Dogvision/\""
      ],
      "execution_count": 3,
      "outputs": []
    },
    {
      "cell_type": "code",
      "metadata": {
        "id": "JAGqxHLeKrZr",
        "colab_type": "code",
        "colab": {}
      },
      "source": [
        "# End TO End Multi class Classification Project\n"
      ],
      "execution_count": 4,
      "outputs": []
    },
    {
      "cell_type": "markdown",
      "metadata": {
        "id": "1T72GweBL3AK",
        "colab_type": "text"
      },
      "source": [
        "\n",
        "\n",
        "# Note Book Overview\n",
        "This Note Book consists of End to End Project based on the \n",
        "TensorFlow 2.0 Multi class Classification Project.\n",
        "\n",
        "## 1.Project\n",
        "Identifying the Breed of the Given Dog image.\n",
        "\n",
        "## 2. Data\n",
        "The Data are from  the Kaggle and Also the Link of the Data set is Provided Below:\n",
        "https://www.kaggle.com/c/dog-breed-identification/data\n",
        "\n",
        "## 3.Evaluation\n",
        " Evaluated Based on Multi Class Log Loss between the predicted probability and the observed target.\n",
        " Some Information of about the data\n",
        "\n",
        "\n",
        "*   Dealing with the Image Data\n",
        "*   Deep learning this was about the Unstructured data\n",
        "*   There are 120 breeds of dogs this means Different Kind of classification classes\n",
        "*   There around 10000+ images in training test(having labels)\n",
        "*   There is areund 10000+ images in test sets(having no labels)\n",
        "\n",
        "\n",
        "\n",
        "\n",
        "\n",
        "\n",
        "\n",
        "\n",
        "\n",
        "\n"
      ]
    },
    {
      "cell_type": "code",
      "metadata": {
        "id": "WAYgpZ3JLjqj",
        "colab_type": "code",
        "colab": {}
      },
      "source": [
        "import tensorflow as tf\n",
        "import tensorflow_hub as hub"
      ],
      "execution_count": 5,
      "outputs": []
    },
    {
      "cell_type": "code",
      "metadata": {
        "id": "0ryYMKdwK6Q-",
        "colab_type": "code",
        "colab": {
          "base_uri": "https://localhost:8080/",
          "height": 34
        },
        "outputId": "90c37df4-39bd-456a-fc0a-0755b62a4ebe"
      },
      "source": [
        "print(\"Temsor Flow Version\"+tf.__version__)"
      ],
      "execution_count": 7,
      "outputs": [
        {
          "output_type": "stream",
          "text": [
            "Temsor Flow Version2.3.0\n"
          ],
          "name": "stdout"
        }
      ]
    },
    {
      "cell_type": "code",
      "metadata": {
        "id": "SkSXlWZlULz9",
        "colab_type": "code",
        "colab": {}
      },
      "source": [
        "try:\n",
        "  %tensorflow_version 2.x\n",
        "except Exception:\n",
        "  pass\n",
        "\n"
      ],
      "execution_count": 8,
      "outputs": []
    },
    {
      "cell_type": "code",
      "metadata": {
        "id": "AugFP0vaDNDH",
        "colab_type": "code",
        "colab": {
          "base_uri": "https://localhost:8080/",
          "height": 34
        },
        "outputId": "cdc7cdb7-e89a-4de8-df8e-5a3d14f79660"
      },
      "source": [
        "print(\"TensorFlow\"+tf.__version__+\" Tensorflowhub\"+hub.__version__)"
      ],
      "execution_count": 9,
      "outputs": [
        {
          "output_type": "stream",
          "text": [
            "TensorFlow2.3.0 Tensorflowhub0.8.0\n"
          ],
          "name": "stdout"
        }
      ]
    },
    {
      "cell_type": "code",
      "metadata": {
        "id": "YB5D77p-EPkw",
        "colab_type": "code",
        "colab": {
          "base_uri": "https://localhost:8080/",
          "height": 34
        },
        "outputId": "0fdddba2-8d9a-457a-8ad6-cb0497ac398c"
      },
      "source": [
        "print(\"GPU\",\"Availability\" if tf.config.list_physical_devices(\"GPU\") else \"Not available\")"
      ],
      "execution_count": 10,
      "outputs": [
        {
          "output_type": "stream",
          "text": [
            "GPU Availability\n"
          ],
          "name": "stdout"
        }
      ]
    },
    {
      "cell_type": "code",
      "metadata": {
        "id": "sIkRmVF2H4wa",
        "colab_type": "code",
        "colab": {
          "base_uri": "https://localhost:8080/",
          "height": 34
        },
        "outputId": "66c77c31-8c99-41b4-d78a-e317fd46a1f6"
      },
      "source": [
        "device=tf.test.gpu_device_name()\n",
        "print(device)"
      ],
      "execution_count": 11,
      "outputs": [
        {
          "output_type": "stream",
          "text": [
            "/device:GPU:0\n"
          ],
          "name": "stdout"
        }
      ]
    },
    {
      "cell_type": "code",
      "metadata": {
        "id": "BcExdeZOMxG8",
        "colab_type": "code",
        "colab": {}
      },
      "source": [
        "lable_csv=pd.read_csv(\"drive/My Drive/Dogvision/labels.csv\")"
      ],
      "execution_count": 12,
      "outputs": []
    },
    {
      "cell_type": "code",
      "metadata": {
        "id": "v0IR208MOhHA",
        "colab_type": "code",
        "colab": {
          "base_uri": "https://localhost:8080/",
          "height": 173
        },
        "outputId": "09f51c30-7717-4c2f-9b2a-aca1dd8632fd"
      },
      "source": [
        "lable_csv.describe()"
      ],
      "execution_count": 13,
      "outputs": [
        {
          "output_type": "execute_result",
          "data": {
            "text/html": [
              "<div>\n",
              "<style scoped>\n",
              "    .dataframe tbody tr th:only-of-type {\n",
              "        vertical-align: middle;\n",
              "    }\n",
              "\n",
              "    .dataframe tbody tr th {\n",
              "        vertical-align: top;\n",
              "    }\n",
              "\n",
              "    .dataframe thead th {\n",
              "        text-align: right;\n",
              "    }\n",
              "</style>\n",
              "<table border=\"1\" class=\"dataframe\">\n",
              "  <thead>\n",
              "    <tr style=\"text-align: right;\">\n",
              "      <th></th>\n",
              "      <th>id</th>\n",
              "      <th>breed</th>\n",
              "    </tr>\n",
              "  </thead>\n",
              "  <tbody>\n",
              "    <tr>\n",
              "      <th>count</th>\n",
              "      <td>10222</td>\n",
              "      <td>10222</td>\n",
              "    </tr>\n",
              "    <tr>\n",
              "      <th>unique</th>\n",
              "      <td>10222</td>\n",
              "      <td>120</td>\n",
              "    </tr>\n",
              "    <tr>\n",
              "      <th>top</th>\n",
              "      <td>0cbdda18846cd014dcb0e18fa67f3f98</td>\n",
              "      <td>scottish_deerhound</td>\n",
              "    </tr>\n",
              "    <tr>\n",
              "      <th>freq</th>\n",
              "      <td>1</td>\n",
              "      <td>126</td>\n",
              "    </tr>\n",
              "  </tbody>\n",
              "</table>\n",
              "</div>"
            ],
            "text/plain": [
              "                                      id               breed\n",
              "count                              10222               10222\n",
              "unique                             10222                 120\n",
              "top     0cbdda18846cd014dcb0e18fa67f3f98  scottish_deerhound\n",
              "freq                                   1                 126"
            ]
          },
          "metadata": {
            "tags": []
          },
          "execution_count": 13
        }
      ]
    },
    {
      "cell_type": "code",
      "metadata": {
        "id": "JeLkIe1kOnxw",
        "colab_type": "code",
        "colab": {
          "base_uri": "https://localhost:8080/",
          "height": 204
        },
        "outputId": "4b1903f6-de1d-489f-e975-3e51f93cbfb3"
      },
      "source": [
        "lable_csv.head()"
      ],
      "execution_count": 14,
      "outputs": [
        {
          "output_type": "execute_result",
          "data": {
            "text/html": [
              "<div>\n",
              "<style scoped>\n",
              "    .dataframe tbody tr th:only-of-type {\n",
              "        vertical-align: middle;\n",
              "    }\n",
              "\n",
              "    .dataframe tbody tr th {\n",
              "        vertical-align: top;\n",
              "    }\n",
              "\n",
              "    .dataframe thead th {\n",
              "        text-align: right;\n",
              "    }\n",
              "</style>\n",
              "<table border=\"1\" class=\"dataframe\">\n",
              "  <thead>\n",
              "    <tr style=\"text-align: right;\">\n",
              "      <th></th>\n",
              "      <th>id</th>\n",
              "      <th>breed</th>\n",
              "    </tr>\n",
              "  </thead>\n",
              "  <tbody>\n",
              "    <tr>\n",
              "      <th>0</th>\n",
              "      <td>000bec180eb18c7604dcecc8fe0dba07</td>\n",
              "      <td>boston_bull</td>\n",
              "    </tr>\n",
              "    <tr>\n",
              "      <th>1</th>\n",
              "      <td>001513dfcb2ffafc82cccf4d8bbaba97</td>\n",
              "      <td>dingo</td>\n",
              "    </tr>\n",
              "    <tr>\n",
              "      <th>2</th>\n",
              "      <td>001cdf01b096e06d78e9e5112d419397</td>\n",
              "      <td>pekinese</td>\n",
              "    </tr>\n",
              "    <tr>\n",
              "      <th>3</th>\n",
              "      <td>00214f311d5d2247d5dfe4fe24b2303d</td>\n",
              "      <td>bluetick</td>\n",
              "    </tr>\n",
              "    <tr>\n",
              "      <th>4</th>\n",
              "      <td>0021f9ceb3235effd7fcde7f7538ed62</td>\n",
              "      <td>golden_retriever</td>\n",
              "    </tr>\n",
              "  </tbody>\n",
              "</table>\n",
              "</div>"
            ],
            "text/plain": [
              "                                 id             breed\n",
              "0  000bec180eb18c7604dcecc8fe0dba07       boston_bull\n",
              "1  001513dfcb2ffafc82cccf4d8bbaba97             dingo\n",
              "2  001cdf01b096e06d78e9e5112d419397          pekinese\n",
              "3  00214f311d5d2247d5dfe4fe24b2303d          bluetick\n",
              "4  0021f9ceb3235effd7fcde7f7538ed62  golden_retriever"
            ]
          },
          "metadata": {
            "tags": []
          },
          "execution_count": 14
        }
      ]
    },
    {
      "cell_type": "code",
      "metadata": {
        "id": "-Vg9WvwpO9h-",
        "colab_type": "code",
        "colab": {
          "base_uri": "https://localhost:8080/",
          "height": 1000
        },
        "outputId": "00a41431-da9e-48cd-ff84-1cdef56aeefb"
      },
      "source": [
        "lable_csv[\"breed\"].value_counts().plot.bar(figsize=(25,25));"
      ],
      "execution_count": 15,
      "outputs": [
        {
          "output_type": "display_data",
          "data": {
            "image/png": "[encoded data removed]",
            "text/plain": [
              "<Figure size 1800x1800 with 1 Axes>"
            ]
          },
          "metadata": {
            "tags": [],
            "needs_background": "light"
          }
        }
      ]
    },
    {
      "cell_type": "code",
      "metadata": {
        "id": "zNpN9uxSPn_8",
        "colab_type": "code",
        "colab": {
          "base_uri": "https://localhost:8080/",
          "height": 34
        },
        "outputId": "73a3bd35-0606-471a-d257-97b1f44066a1"
      },
      "source": [
        "lable_csv[\"breed\"].value_counts().median()"
      ],
      "execution_count": 16,
      "outputs": [
        {
          "output_type": "execute_result",
          "data": {
            "text/plain": [
              "82.0"
            ]
          },
          "metadata": {
            "tags": []
          },
          "execution_count": 16
        }
      ]
    },
    {
      "cell_type": "code",
      "metadata": {
        "id": "6XyUIbAXOwd0",
        "colab_type": "code",
        "colab": {
          "base_uri": "https://localhost:8080/",
          "height": 392
        },
        "outputId": "28540ec3-c90a-4a3b-bcc4-64b0c1f87cba"
      },
      "source": [
        "from IPython.display import Image\n",
        "Image(\"drive/My Drive/Dogvision/train/000bec180eb18c7604dcecc8fe0dba07.jpg\")"
      ],
      "execution_count": 17,
      "outputs": [
        {
          "output_type": "execute_result",
          "data": {
            "image/png": "[encoded data removed]",
            "text/plain": [
              "<IPython.core.display.Image object>"
            ]
          },
          "metadata": {
            "tags": []
          },
          "execution_count": 17
        }
      ]
    },
    {
      "cell_type": "code",
      "metadata": {
        "id": "L8gWQBPDT1Kc",
        "colab_type": "code",
        "colab": {}
      },
      "source": [
        "file_path=[\"drive/My Drive/Dogvision/train/\"+fname+\".jpg\" for fname in lable_csv[\"id\"]]"
      ],
      "execution_count": 18,
      "outputs": []
    },
    {
      "cell_type": "code",
      "metadata": {
        "id": "57MlfUjIUvDy",
        "colab_type": "code",
        "colab": {
          "base_uri": "https://localhost:8080/",
          "height": 187
        },
        "outputId": "ebca5670-0d39-47f9-bbd0-03c240b1d636"
      },
      "source": [
        "file_path[:10]"
      ],
      "execution_count": 19,
      "outputs": [
        {
          "output_type": "execute_result",
          "data": {
            "text/plain": [
              "['drive/My Drive/Dogvision/train/000bec180eb18c7604dcecc8fe0dba07.jpg',\n",
              " 'drive/My Drive/Dogvision/train/001513dfcb2ffafc82cccf4d8bbaba97.jpg',\n",
              " 'drive/My Drive/Dogvision/train/001cdf01b096e06d78e9e5112d419397.jpg',\n",
              " 'drive/My Drive/Dogvision/train/00214f311d5d2247d5dfe4fe24b2303d.jpg',\n",
              " 'drive/My Drive/Dogvision/train/0021f9ceb3235effd7fcde7f7538ed62.jpg',\n",
              " 'drive/My Drive/Dogvision/train/002211c81b498ef88e1b40b9abf84e1d.jpg',\n",
              " 'drive/My Drive/Dogvision/train/00290d3e1fdd27226ba27a8ce248ce85.jpg',\n",
              " 'drive/My Drive/Dogvision/train/002a283a315af96eaea0e28e7163b21b.jpg',\n",
              " 'drive/My Drive/Dogvision/train/003df8b8a8b05244b1d920bb6cf451f9.jpg',\n",
              " 'drive/My Drive/Dogvision/train/0042188c895a2f14ef64a918ed9c7b64.jpg']"
            ]
          },
          "metadata": {
            "tags": []
          },
          "execution_count": 19
        }
      ]
    },
    {
      "cell_type": "code",
      "metadata": {
        "id": "oHL7f7FWVPQc",
        "colab_type": "code",
        "colab": {}
      },
      "source": [
        "labels=lable_csv[\"breed\"].to_numpy()"
      ],
      "execution_count": 20,
      "outputs": []
    },
    {
      "cell_type": "code",
      "metadata": {
        "id": "3j8Swc-sUxoS",
        "colab_type": "code",
        "colab": {}
      },
      "source": [
        "unique_breeds=n.unique(labels)"
      ],
      "execution_count": 21,
      "outputs": []
    },
    {
      "cell_type": "code",
      "metadata": {
        "id": "BsPNSet3VOfw",
        "colab_type": "code",
        "colab": {
          "base_uri": "https://localhost:8080/",
          "height": 629
        },
        "outputId": "68167a8f-f3f9-4526-e10c-6a11009d4d65"
      },
      "source": [
        "unique_breeds"
      ],
      "execution_count": 22,
      "outputs": [
        {
          "output_type": "execute_result",
          "data": {
            "text/plain": [
              "array(['affenpinscher', 'afghan_hound', 'african_hunting_dog', 'airedale',\n",
              "       'american_staffordshire_terrier', 'appenzeller',\n",
              "       'australian_terrier', 'basenji', 'basset', 'beagle',\n",
              "       'bedlington_terrier', 'bernese_mountain_dog',\n",
              "       'black-and-tan_coonhound', 'blenheim_spaniel', 'bloodhound',\n",
              "       'bluetick', 'border_collie', 'border_terrier', 'borzoi',\n",
              "       'boston_bull', 'bouvier_des_flandres', 'boxer',\n",
              "       'brabancon_griffon', 'briard', 'brittany_spaniel', 'bull_mastiff',\n",
              "       'cairn', 'cardigan', 'chesapeake_bay_retriever', 'chihuahua',\n",
              "       'chow', 'clumber', 'cocker_spaniel', 'collie',\n",
              "       'curly-coated_retriever', 'dandie_dinmont', 'dhole', 'dingo',\n",
              "       'doberman', 'english_foxhound', 'english_setter',\n",
              "       'english_springer', 'entlebucher', 'eskimo_dog',\n",
              "       'flat-coated_retriever', 'french_bulldog', 'german_shepherd',\n",
              "       'german_short-haired_pointer', 'giant_schnauzer',\n",
              "       'golden_retriever', 'gordon_setter', 'great_dane',\n",
              "       'great_pyrenees', 'greater_swiss_mountain_dog', 'groenendael',\n",
              "       'ibizan_hound', 'irish_setter', 'irish_terrier',\n",
              "       'irish_water_spaniel', 'irish_wolfhound', 'italian_greyhound',\n",
              "       'japanese_spaniel', 'keeshond', 'kelpie', 'kerry_blue_terrier',\n",
              "       'komondor', 'kuvasz', 'labrador_retriever', 'lakeland_terrier',\n",
              "       'leonberg', 'lhasa', 'malamute', 'malinois', 'maltese_dog',\n",
              "       'mexican_hairless', 'miniature_pinscher', 'miniature_poodle',\n",
              "       'miniature_schnauzer', 'newfoundland', 'norfolk_terrier',\n",
              "       'norwegian_elkhound', 'norwich_terrier', 'old_english_sheepdog',\n",
              "       'otterhound', 'papillon', 'pekinese', 'pembroke', 'pomeranian',\n",
              "       'pug', 'redbone', 'rhodesian_ridgeback', 'rottweiler',\n",
              "       'saint_bernard', 'saluki', 'samoyed', 'schipperke',\n",
              "       'scotch_terrier', 'scottish_deerhound', 'sealyham_terrier',\n",
              "       'shetland_sheepdog', 'shih-tzu', 'siberian_husky', 'silky_terrier',\n",
              "       'soft-coated_wheaten_terrier', 'staffordshire_bullterrier',\n",
              "       'standard_poodle', 'standard_schnauzer', 'sussex_spaniel',\n",
              "       'tibetan_mastiff', 'tibetan_terrier', 'toy_poodle', 'toy_terrier',\n",
              "       'vizsla', 'walker_hound', 'weimaraner', 'welsh_springer_spaniel',\n",
              "       'west_highland_white_terrier', 'whippet',\n",
              "       'wire-haired_fox_terrier', 'yorkshire_terrier'], dtype=object)"
            ]
          },
          "metadata": {
            "tags": []
          },
          "execution_count": 22
        }
      ]
    },
    {
      "cell_type": "code",
      "metadata": {
        "id": "pOONVWyAVrpK",
        "colab_type": "code",
        "colab": {
          "base_uri": "https://localhost:8080/",
          "height": 34
        },
        "outputId": "9b846bc6-3945-4821-ccef-aa9cd728d693"
      },
      "source": [
        "if len(labels) == len(file_path):\n",
        "  print(\"Number Labels matches Number of File_path\")\n",
        "else:\n",
        "  print(\"Not Matching\")"
      ],
      "execution_count": 23,
      "outputs": [
        {
          "output_type": "stream",
          "text": [
            "Number Labels matches Number of File_path\n"
          ],
          "name": "stdout"
        }
      ]
    },
    {
      "cell_type": "code",
      "metadata": {
        "id": "uGZUo4KrWBVJ",
        "colab_type": "code",
        "colab": {}
      },
      "source": [
        "x=file_path"
      ],
      "execution_count": 24,
      "outputs": []
    },
    {
      "cell_type": "code",
      "metadata": {
        "id": "rhX79hHJWz94",
        "colab_type": "code",
        "colab": {}
      },
      "source": [
        "y=labels"
      ],
      "execution_count": 25,
      "outputs": []
    },
    {
      "cell_type": "code",
      "metadata": {
        "id": "H4VBA8krW1zR",
        "colab_type": "code",
        "colab": {
          "base_uri": "https://localhost:8080/",
          "height": 1000
        },
        "outputId": "adee801a-7924-4227-f818-97fe9a692dc0"
      },
      "source": [
        "x"
      ],
      "execution_count": 26,
      "outputs": [
        {
          "output_type": "execute_result",
          "data": {
            "text/plain": [
              "['drive/My Drive/Dogvision/train/000bec180eb18c7604dcecc8fe0dba07.jpg',\n",
              " 'drive/My Drive/Dogvision/train/001513dfcb2ffafc82cccf4d8bbaba97.jpg',\n",
              " 'drive/My Drive/Dogvision/train/001cdf01b096e06d78e9e5112d419397.jpg',\n",
              " 'drive/My Drive/Dogvision/train/00214f311d5d2247d5dfe4fe24b2303d.jpg',\n",
              " 'drive/My Drive/Dogvision/train/0021f9ceb3235effd7fcde7f7538ed62.jpg',\n",
              " 'drive/My Drive/Dogvision/train/002211c81b498ef88e1b40b9abf84e1d.jpg',\n",
              " 'drive/My Drive/Dogvision/train/00290d3e1fdd27226ba27a8ce248ce85.jpg',\n",
              " 'drive/My Drive/Dogvision/train/002a283a315af96eaea0e28e7163b21b.jpg',\n",
              " 'drive/My Drive/Dogvision/train/003df8b8a8b05244b1d920bb6cf451f9.jpg',\n",
              " 'drive/My Drive/Dogvision/train/0042188c895a2f14ef64a918ed9c7b64.jpg',\n",
              " 'drive/My Drive/Dogvision/train/004396df1acd0f1247b740ca2b14616e.jpg',\n",
              " 'drive/My Drive/Dogvision/train/0067dc3eab0b3c3ef0439477624d85d6.jpg',\n",
              " 'drive/My Drive/Dogvision/train/00693b8bc2470375cc744a6391d397ec.jpg',\n",
              " 'drive/My Drive/Dogvision/train/006cc3ddb9dc1bd827479569fcdc52dc.jpg',\n",
              " 'drive/My Drive/Dogvision/train/0075dc49dab4024d12fafe67074d8a81.jpg',\n",
              " 'drive/My Drive/Dogvision/train/00792e341f3c6eb33663e415d0715370.jpg',\n",
              " 'drive/My Drive/Dogvision/train/007b5a16db9d9ff9d7ad39982703e429.jpg',\n",
              " 'drive/My Drive/Dogvision/train/007b8a07882822475a4ce6581e70b1f8.jpg',\n",
              " 'drive/My Drive/Dogvision/train/007ff9a78eba2aebb558afea3a51c469.jpg',\n",
              " 'drive/My Drive/Dogvision/train/008887054b18ba3c7601792b6a453cc3.jpg',\n",
              " 'drive/My Drive/Dogvision/train/008b1271ed1addaccf93783b39deab45.jpg',\n",
              " 'drive/My Drive/Dogvision/train/008ba178d6dfc1a583617470d19c1673.jpg',\n",
              " 'drive/My Drive/Dogvision/train/009509be3ca7cce0ff9e37c8b09b1125.jpg',\n",
              " 'drive/My Drive/Dogvision/train/0097c6242c6f3071762d9f85c3ef1b2f.jpg',\n",
              " 'drive/My Drive/Dogvision/train/00a338a92e4e7bf543340dc849230e75.jpg',\n",
              " 'drive/My Drive/Dogvision/train/00a366d4b4a9bbb6c8a63126697b7656.jpg',\n",
              " 'drive/My Drive/Dogvision/train/00a862390341c5be090dd72bd2bc19ef.jpg',\n",
              " 'drive/My Drive/Dogvision/train/00b7d114bc5166a629a3cc03d9329120.jpg',\n",
              " 'drive/My Drive/Dogvision/train/00ba244566e36e0af3d979320fd3017f.jpg',\n",
              " 'drive/My Drive/Dogvision/train/00bee065dcec471f26394855c5c2f3de.jpg',\n",
              " 'drive/My Drive/Dogvision/train/00ca18751837cd6a22813f8e221f7819.jpg',\n",
              " 'drive/My Drive/Dogvision/train/00cc68a50b2d016a6b29af628ea4e04b.jpg',\n",
              " 'drive/My Drive/Dogvision/train/00ddcec076073cc96f82c27bf4548fbc.jpg',\n",
              " 'drive/My Drive/Dogvision/train/00e9ed3fab1d2032603d1a90e557976f.jpg',\n",
              " 'drive/My Drive/Dogvision/train/00f34ac0a16ef43e6fd1de49a26081ce.jpg',\n",
              " 'drive/My Drive/Dogvision/train/00fa641312604199831755f96109fde7.jpg',\n",
              " 'drive/My Drive/Dogvision/train/00fda6ecca54efbac26e907be4b0b78b.jpg',\n",
              " 'drive/My Drive/Dogvision/train/0100f55e4f0fe28f2c0465d3fc4b9897.jpg',\n",
              " 'drive/My Drive/Dogvision/train/010d65bd29d246aea53d9849da142ccf.jpg',\n",
              " 'drive/My Drive/Dogvision/train/010e87fdf252645a827e37470e65e842.jpg',\n",
              " 'drive/My Drive/Dogvision/train/011761e3ae8ec5e188e8f0bcb59bb8b6.jpg',\n",
              " 'drive/My Drive/Dogvision/train/011bd7fd7c036dbb243d0e37329c77b7.jpg',\n",
              " 'drive/My Drive/Dogvision/train/011e06760794850c40f23d6426c40774.jpg',\n",
              " 'drive/My Drive/Dogvision/train/0120343862761d052d6a7ade81625c94.jpg',\n",
              " 'drive/My Drive/Dogvision/train/01268f0007876a692907bda89468184c.jpg',\n",
              " 'drive/My Drive/Dogvision/train/012ff2d21dad14452ea16b4cda7eef4c.jpg',\n",
              " 'drive/My Drive/Dogvision/train/013aed490e0e15a8989e12ae0d0ccfaa.jpg',\n",
              " 'drive/My Drive/Dogvision/train/013c43f40f0fb13fa25ac0c2a70fd48f.jpg',\n",
              " 'drive/My Drive/Dogvision/train/013f8fdf6d638c7bb042f5f17e8a9fdc.jpg',\n",
              " 'drive/My Drive/Dogvision/train/0140b05bfc2fd43f2819fab3d8566109.jpg',\n",
              " 'drive/My Drive/Dogvision/train/014c2b0cd8e3b517e649cecf8543b8fe.jpg',\n",
              " 'drive/My Drive/Dogvision/train/0159b6457aac89f43d1c1931cdf7500b.jpg',\n",
              " 'drive/My Drive/Dogvision/train/015b363b062f602e7ec04ce28e640d05.jpg',\n",
              " 'drive/My Drive/Dogvision/train/015b4aa50dd9b4a0d26dc0c38f41b489.jpg',\n",
              " 'drive/My Drive/Dogvision/train/015d86b2fcb36f0fdfbe94a66c0e3400.jpg',\n",
              " 'drive/My Drive/Dogvision/train/0161847d5bfae154af084993fa26a1a7.jpg',\n",
              " 'drive/My Drive/Dogvision/train/0162107acd8f2588c0944b791d61bb0c.jpg',\n",
              " 'drive/My Drive/Dogvision/train/0162b3e0144fb1d1ab82fbff3ace9938.jpg',\n",
              " 'drive/My Drive/Dogvision/train/01680178ca6664294efb493a46014a82.jpg',\n",
              " 'drive/My Drive/Dogvision/train/0169294085e94d1250587b38e4fbb532.jpg',\n",
              " 'drive/My Drive/Dogvision/train/016bcdb05e2d0e0878877df21b8c3cff.jpg',\n",
              " 'drive/My Drive/Dogvision/train/0177a92a906192bfde8adbb8a237e524.jpg',\n",
              " 'drive/My Drive/Dogvision/train/018aae5768833c34e3df30d63429251e.jpg',\n",
              " 'drive/My Drive/Dogvision/train/0192d7174233ebdb3d720000413829ac.jpg',\n",
              " 'drive/My Drive/Dogvision/train/019c92d1ff56deb9d75d809a92bc84d8.jpg',\n",
              " 'drive/My Drive/Dogvision/train/019ff93e03802e661577b5869e099dcb.jpg',\n",
              " 'drive/My Drive/Dogvision/train/01a3b064c56edbe3abf55051b16134d4.jpg',\n",
              " 'drive/My Drive/Dogvision/train/01a41985ab8209e750588fa348d635be.jpg',\n",
              " 'drive/My Drive/Dogvision/train/01b09bdac592b0eb9909dd105314ad3a.jpg',\n",
              " 'drive/My Drive/Dogvision/train/01b35a06b00e4a832b935cf8d51303c1.jpg',\n",
              " 'drive/My Drive/Dogvision/train/01b36cb1b80ab8c3a7d2b7128ad21bdc.jpg',\n",
              " 'drive/My Drive/Dogvision/train/01b6c2bd3053535a58d8de763cf06aa0.jpg',\n",
              " 'drive/My Drive/Dogvision/train/01b849a7e4fbc545f6b2806cb87ab371.jpg',\n",
              " 'drive/My Drive/Dogvision/train/01c230ec18eed427cf5b1db1a833024d.jpg',\n",
              " 'drive/My Drive/Dogvision/train/01d0f3692e576b3cde511285352aed4a.jpg',\n",
              " 'drive/My Drive/Dogvision/train/01de1f7b7b4465a6d130a56746af66a6.jpg',\n",
              " 'drive/My Drive/Dogvision/train/01dffcb02d6cba7d2b101fcc93daa6f1.jpg',\n",
              " 'drive/My Drive/Dogvision/train/01e2245b46eb747260ff80f1c892daef.jpg',\n",
              " 'drive/My Drive/Dogvision/train/01e4d3d1cb704ed819bce35d22e716a7.jpg',\n",
              " 'drive/My Drive/Dogvision/train/01e787576c003930f96c966f9c3e1d44.jpg',\n",
              " 'drive/My Drive/Dogvision/train/01ee3c7ff9bcaba9874183135877670e.jpg',\n",
              " 'drive/My Drive/Dogvision/train/01f397f16fb2d7d76fdbce4e2207c1a3.jpg',\n",
              " 'drive/My Drive/Dogvision/train/01f429667104c0c5a5f321700f15435c.jpg',\n",
              " 'drive/My Drive/Dogvision/train/01f8540fb1084107a6eb3e528f82c1aa.jpg',\n",
              " 'drive/My Drive/Dogvision/train/0206c12e8984e3c8a166cc272de25d6f.jpg',\n",
              " 'drive/My Drive/Dogvision/train/0207803a6ce1bfad98e7f095c965e44a.jpg',\n",
              " 'drive/My Drive/Dogvision/train/020ecfccf3c900b01ce831abbf20b485.jpg',\n",
              " 'drive/My Drive/Dogvision/train/0214e2d616ec7eb7cb0d8c19a7f29e70.jpg',\n",
              " 'drive/My Drive/Dogvision/train/021b5a49189665c0442c19b5b33e8cf1.jpg',\n",
              " 'drive/My Drive/Dogvision/train/0229677aec75183a16de9d6f6658fae2.jpg',\n",
              " 'drive/My Drive/Dogvision/train/022b34fd8734b39995a9f38a4f3e7b6b.jpg',\n",
              " 'drive/My Drive/Dogvision/train/0234695e7a548e2ad1b2ac91d6486c1c.jpg',\n",
              " 'drive/My Drive/Dogvision/train/023e4e28415506e0deddcbd8f8bdab29.jpg',\n",
              " 'drive/My Drive/Dogvision/train/0246f44bb123ce3f91c939861eb97fb7.jpg',\n",
              " 'drive/My Drive/Dogvision/train/024ecfa590271db8616bfaa59159d7b2.jpg',\n",
              " 'drive/My Drive/Dogvision/train/024fc0be976885d5cfcf6770239a9001.jpg',\n",
              " 'drive/My Drive/Dogvision/train/024fd994941146f8dfdb38a9b2b74efd.jpg',\n",
              " 'drive/My Drive/Dogvision/train/02508e76981e1ba059d785704b4c480c.jpg',\n",
              " 'drive/My Drive/Dogvision/train/0255a5bca3b9d91d4fdba8d7419b5e69.jpg',\n",
              " 'drive/My Drive/Dogvision/train/025bab46ddcde249d5c52c660fea6d26.jpg',\n",
              " 'drive/My Drive/Dogvision/train/025d903b457b865fd29424916e42fbc2.jpg',\n",
              " 'drive/My Drive/Dogvision/train/0264c5fcaaba5e31082395476447b254.jpg',\n",
              " 'drive/My Drive/Dogvision/train/0267c5f1acbab52ae4a7927e0398612b.jpg',\n",
              " 'drive/My Drive/Dogvision/train/0270276158566af50ef48b1284c998d6.jpg',\n",
              " 'drive/My Drive/Dogvision/train/02777bdfcf9f1a593af768e6616df4b3.jpg',\n",
              " 'drive/My Drive/Dogvision/train/0287b3374c33346e2b41f73af3a36261.jpg',\n",
              " 'drive/My Drive/Dogvision/train/029202b0cf0b5d6d48c6ce7b432409ef.jpg',\n",
              " 'drive/My Drive/Dogvision/train/0294b42910cb8a8d8340e45d8aaf2953.jpg',\n",
              " 'drive/My Drive/Dogvision/train/0296633efc21006e3ce2af7eaeff04f7.jpg',\n",
              " 'drive/My Drive/Dogvision/train/029ed6af5dcadfd105db9271e12ede14.jpg',\n",
              " 'drive/My Drive/Dogvision/train/02a3edc1d6aae095185131fe185478e0.jpg',\n",
              " 'drive/My Drive/Dogvision/train/02a8ed20109bd62bd5894f276c08c8a2.jpg',\n",
              " 'drive/My Drive/Dogvision/train/02ad779f2721db9364d3bb68f5580582.jpg',\n",
              " 'drive/My Drive/Dogvision/train/02b1c50fb7315423a664f3ce68c94e30.jpg',\n",
              " 'drive/My Drive/Dogvision/train/02c48781eff39a66ae6dd8626e35809e.jpg',\n",
              " 'drive/My Drive/Dogvision/train/02c90d8109d9a48739b9887349d92b1f.jpg',\n",
              " 'drive/My Drive/Dogvision/train/02cc0d7c8b7b513b4325bda30dce222d.jpg',\n",
              " 'drive/My Drive/Dogvision/train/02d45a238621c3f2cbde5c1d173ead1e.jpg',\n",
              " 'drive/My Drive/Dogvision/train/02d54f0dfb40038765e838459ae8c956.jpg',\n",
              " 'drive/My Drive/Dogvision/train/02df8523833c432f90071f86dff69a8f.jpg',\n",
              " 'drive/My Drive/Dogvision/train/02dfcd0a24a9c41070f4f94b4c9933ff.jpg',\n",
              " 'drive/My Drive/Dogvision/train/02e7b5a86cec57f5935374946d4f5dc1.jpg',\n",
              " 'drive/My Drive/Dogvision/train/02eef0f899b81ddf27a42641bc8db9ee.jpg',\n",
              " 'drive/My Drive/Dogvision/train/02ef5f19db8cf4da62016a1067bdc548.jpg',\n",
              " 'drive/My Drive/Dogvision/train/02f07e7e51662336a9d8c775a4eac5f4.jpg',\n",
              " 'drive/My Drive/Dogvision/train/02f3d5fd1eea0a2e6f4742bc54b51ba9.jpg',\n",
              " 'drive/My Drive/Dogvision/train/02f6152a9401568d695234d33bb6c37d.jpg',\n",
              " 'drive/My Drive/Dogvision/train/02ff77af410e966b7b661f6f0789d947.jpg',\n",
              " 'drive/My Drive/Dogvision/train/0310a425f26d797634aadeb66bd63ef1.jpg',\n",
              " 'drive/My Drive/Dogvision/train/0311a6a51a414ba91f3ad8055170baa1.jpg',\n",
              " 'drive/My Drive/Dogvision/train/0314048edbd08c8c50eb3c93281bd043.jpg',\n",
              " 'drive/My Drive/Dogvision/train/031d3353588a81b42bcae74ff19571b0.jpg',\n",
              " 'drive/My Drive/Dogvision/train/0325e6ba5b6afd3e0dd94c3a77b6de59.jpg',\n",
              " 'drive/My Drive/Dogvision/train/032620ae0f847d957d94d1fd76cb17e8.jpg',\n",
              " 'drive/My Drive/Dogvision/train/0326344e0d5181130c28d25edd5627e4.jpg',\n",
              " 'drive/My Drive/Dogvision/train/0326d40cc2b35521f1f3e73cabcf2a23.jpg',\n",
              " 'drive/My Drive/Dogvision/train/032c14b2df4193004913b01ab48f87c6.jpg',\n",
              " 'drive/My Drive/Dogvision/train/0341e3d7a4624d6a7b061fdc25b69044.jpg',\n",
              " 'drive/My Drive/Dogvision/train/0345638400c47bbd920474672562077e.jpg',\n",
              " 'drive/My Drive/Dogvision/train/03564fbb4aba93dd80e5c7cd76f28d28.jpg',\n",
              " 'drive/My Drive/Dogvision/train/035b459eb52acba2ae75bed041b368fe.jpg',\n",
              " 'drive/My Drive/Dogvision/train/035f28d8ad34afaf7c8d276d6674bf8f.jpg',\n",
              " 'drive/My Drive/Dogvision/train/035fe39454c2ddb2f6a37146cacf0ac0.jpg',\n",
              " 'drive/My Drive/Dogvision/train/0360d42966d191a5db4c4bb2e8c66229.jpg',\n",
              " 'drive/My Drive/Dogvision/train/0365fe4e3e13a885c6b02ebbbf2d9173.jpg',\n",
              " 'drive/My Drive/Dogvision/train/0374e657c8b3b55579751adcaa7c8023.jpg',\n",
              " 'drive/My Drive/Dogvision/train/0379145880ad3978f9b80f0dc2c03fba.jpg',\n",
              " 'drive/My Drive/Dogvision/train/037ac6cbd9c96d70e68917aa059b6aab.jpg',\n",
              " 'drive/My Drive/Dogvision/train/039bdddd8546f0fafdf984b810d1138b.jpg',\n",
              " 'drive/My Drive/Dogvision/train/039e61713398f27d027480e4bd0056d1.jpg',\n",
              " 'drive/My Drive/Dogvision/train/03ae71ff9e4c5ac97afdfa956ea5e191.jpg',\n",
              " 'drive/My Drive/Dogvision/train/03b0e7ace52c10dc4878f60307cdebe3.jpg',\n",
              " 'drive/My Drive/Dogvision/train/03b7320cf8054e57b499e01d1cde0644.jpg',\n",
              " 'drive/My Drive/Dogvision/train/03b9ab173e5862580909fee10f0ea46d.jpg',\n",
              " 'drive/My Drive/Dogvision/train/03bc1c631e57ba87c85b98efd0912c00.jpg',\n",
              " 'drive/My Drive/Dogvision/train/03bda5c85206a273eb978c7b9483df5f.jpg',\n",
              " 'drive/My Drive/Dogvision/train/03c1557464297ffffc8da977c4db7e68.jpg',\n",
              " 'drive/My Drive/Dogvision/train/03c81a2e78dc915bc515fcb8aafd2f6f.jpg',\n",
              " 'drive/My Drive/Dogvision/train/03ca2c79345f4c27232ed5b0dc2821c2.jpg',\n",
              " 'drive/My Drive/Dogvision/train/03cae0a6700c5cc4900e576034361e7a.jpg',\n",
              " 'drive/My Drive/Dogvision/train/03da788cc7e5c111575daf04e7e3910c.jpg',\n",
              " 'drive/My Drive/Dogvision/train/03dc61595ad9dbf49e3998cf586ca8cb.jpg',\n",
              " 'drive/My Drive/Dogvision/train/03dd99e068f1f2283011cc305f5aaa9f.jpg',\n",
              " 'drive/My Drive/Dogvision/train/03ddfa6f292b49e14ed6be5c58246701.jpg',\n",
              " 'drive/My Drive/Dogvision/train/03dfefdb2939388f7ca9578cb7c4a2b9.jpg',\n",
              " 'drive/My Drive/Dogvision/train/03e1d2ee5fd90aef036c90a9e7f81177.jpg',\n",
              " 'drive/My Drive/Dogvision/train/03eb844e1d5aa5addaab20298b1b70c3.jpg',\n",
              " 'drive/My Drive/Dogvision/train/03edf850d74d43b2587991ecb673fb33.jpg',\n",
              " 'drive/My Drive/Dogvision/train/03f2301867ca4d744773c4c06aa61d3c.jpg',\n",
              " 'drive/My Drive/Dogvision/train/03f2f64aebc483ef8e5e17aba7311aa6.jpg',\n",
              " 'drive/My Drive/Dogvision/train/03f5b638b8f1c83d3097786e40992ff9.jpg',\n",
              " 'drive/My Drive/Dogvision/train/03f6435dc8a5e760d19e67831c6034fb.jpg',\n",
              " 'drive/My Drive/Dogvision/train/040fef64640b89c53f161b6c5215b78b.jpg',\n",
              " 'drive/My Drive/Dogvision/train/041a54577da744348d4da8094e882cd9.jpg',\n",
              " 'drive/My Drive/Dogvision/train/041b3b8a40b587a486276ac15edd9eaf.jpg',\n",
              " 'drive/My Drive/Dogvision/train/041d0d6a8d110b35a3795dd5c68f9a36.jpg',\n",
              " 'drive/My Drive/Dogvision/train/04254919cc15c6867cccfd738a926999.jpg',\n",
              " 'drive/My Drive/Dogvision/train/0428e1ae313156ec06dc42096cf1372c.jpg',\n",
              " 'drive/My Drive/Dogvision/train/042e83e82315bada78f2681d030b0d28.jpg',\n",
              " 'drive/My Drive/Dogvision/train/042ecd9a978c2ee48d17f7f781621ac9.jpg',\n",
              " 'drive/My Drive/Dogvision/train/0434ddceef3eea9c757c8e9557a2d698.jpg',\n",
              " 'drive/My Drive/Dogvision/train/0440acb104d7346ccc9bba0716603f6a.jpg',\n",
              " 'drive/My Drive/Dogvision/train/0440e760e55c4d6bed536fbc0273801a.jpg',\n",
              " 'drive/My Drive/Dogvision/train/044644ffbec4b6d402eb824532478811.jpg',\n",
              " 'drive/My Drive/Dogvision/train/044d904b00ce11cec6e493226c39a4e2.jpg',\n",
              " 'drive/My Drive/Dogvision/train/044efbf8ab3e7195b8ea3c92ef0d48df.jpg',\n",
              " 'drive/My Drive/Dogvision/train/044f7e60953230fa45e4367073d96693.jpg',\n",
              " 'drive/My Drive/Dogvision/train/0450c3899b7ca7cac31406a52c7bc74e.jpg',\n",
              " 'drive/My Drive/Dogvision/train/0457342c36e7e7d103fa4b286a1d62f8.jpg',\n",
              " 'drive/My Drive/Dogvision/train/045d421a681a7da04ff668992a8b4c3e.jpg',\n",
              " 'drive/My Drive/Dogvision/train/045ea2f41120606e2c5ae1315cebfb46.jpg',\n",
              " 'drive/My Drive/Dogvision/train/046b28d8ac6f7beb3f63159ecaf4cbb6.jpg',\n",
              " 'drive/My Drive/Dogvision/train/046d8f04a5a42872774110c6a2db1224.jpg',\n",
              " 'drive/My Drive/Dogvision/train/047d9a7dc7205c76e5487d6fc5f4a666.jpg',\n",
              " 'drive/My Drive/Dogvision/train/0484a6cc686a07e1edacd0fb44b1d965.jpg',\n",
              " 'drive/My Drive/Dogvision/train/0486732311e9d60e8712f1dc33c4ebe0.jpg',\n",
              " 'drive/My Drive/Dogvision/train/0490b67cb414d527d6c21052b1e3b5dd.jpg',\n",
              " 'drive/My Drive/Dogvision/train/0496d4170e295688e8d6929b239dd4fb.jpg',\n",
              " 'drive/My Drive/Dogvision/train/049a406bfac63012d757167c084ced1b.jpg',\n",
              " 'drive/My Drive/Dogvision/train/04a191172e090876d3f180fc318038f0.jpg',\n",
              " 'drive/My Drive/Dogvision/train/04a3f5dc6d985601f354ab4434645d83.jpg',\n",
              " 'drive/My Drive/Dogvision/train/04b5834c3a969c6308ce157c547bb313.jpg',\n",
              " 'drive/My Drive/Dogvision/train/04be608c9c005d9aa0224fe08554e4be.jpg',\n",
              " 'drive/My Drive/Dogvision/train/04c3bdfec0c7f082c7e697c26be9e020.jpg',\n",
              " 'drive/My Drive/Dogvision/train/04cce0cd53c6f01d242a49e43de513a1.jpg',\n",
              " 'drive/My Drive/Dogvision/train/04d2dc1f2804c748b1aa71954bb45d38.jpg',\n",
              " 'drive/My Drive/Dogvision/train/04d3a777baa532f7558a860393c4537f.jpg',\n",
              " 'drive/My Drive/Dogvision/train/04d4918090b0c2a7b965ff58f13b2ecf.jpg',\n",
              " 'drive/My Drive/Dogvision/train/04d50b0dce8b8ee9544d9602df85f722.jpg',\n",
              " 'drive/My Drive/Dogvision/train/04d5d382a8a02d68859850dc282d3ac4.jpg',\n",
              " 'drive/My Drive/Dogvision/train/04d6fe2d5ad29be79083e5c9cf3d9b0d.jpg',\n",
              " 'drive/My Drive/Dogvision/train/04dea47b883acca9bd57c7ea2930524f.jpg',\n",
              " 'drive/My Drive/Dogvision/train/04e370c8510638ca969a716822444085.jpg',\n",
              " 'drive/My Drive/Dogvision/train/04e3bb77c15c18fc1ac101d86d612f46.jpg',\n",
              " 'drive/My Drive/Dogvision/train/04ea8788cfa17d01c87ea4cdaa0a330d.jpg',\n",
              " 'drive/My Drive/Dogvision/train/04f59d1b6887cf10e6fd897514623cf3.jpg',\n",
              " 'drive/My Drive/Dogvision/train/04f69d645182d799dbb54862c19c0f38.jpg',\n",
              " 'drive/My Drive/Dogvision/train/04f9e2da4b6f5adb9b9d62eba66ba991.jpg',\n",
              " 'drive/My Drive/Dogvision/train/04fab70baaf7cd53f8bf78225dbf5409.jpg',\n",
              " 'drive/My Drive/Dogvision/train/04fb4d719e9fe2b6ffe32d9ae7be8a22.jpg',\n",
              " 'drive/My Drive/Dogvision/train/050073020e80e4935b53df8d786c8612.jpg',\n",
              " 'drive/My Drive/Dogvision/train/050c59e2063923106443e9fd81683088.jpg',\n",
              " 'drive/My Drive/Dogvision/train/0512c1a59449a9c8c83c95722028ac90.jpg',\n",
              " 'drive/My Drive/Dogvision/train/05134ea3341a1f4f460168e68ec5765d.jpg',\n",
              " 'drive/My Drive/Dogvision/train/0518691772e78ac6805bf006993665a4.jpg',\n",
              " 'drive/My Drive/Dogvision/train/052675b01ae0a4b62e090923d131f4ff.jpg',\n",
              " 'drive/My Drive/Dogvision/train/053106ed091eac5e129225315ef6cfcb.jpg',\n",
              " 'drive/My Drive/Dogvision/train/0543510e763cbf8fc771a097ffda9984.jpg',\n",
              " 'drive/My Drive/Dogvision/train/054f069e01a809b23a9da31dd8f4841e.jpg',\n",
              " 'drive/My Drive/Dogvision/train/055429c6fb404af27ac52a08216e6cda.jpg',\n",
              " 'drive/My Drive/Dogvision/train/055cfac66e5d67756ab05d02baeeb04c.jpg',\n",
              " 'drive/My Drive/Dogvision/train/0566a60d7504a6fad4161d0ef2765a34.jpg',\n",
              " 'drive/My Drive/Dogvision/train/0569f1d79637070f70ca4a62ec510792.jpg',\n",
              " 'drive/My Drive/Dogvision/train/056b535b441278e83839984f1b1da0a6.jpg',\n",
              " 'drive/My Drive/Dogvision/train/056c314f2a7d119447af259a07eb31df.jpg',\n",
              " 'drive/My Drive/Dogvision/train/05719b998e57a11b863a322ecc7652a5.jpg',\n",
              " 'drive/My Drive/Dogvision/train/0581b47e4c3890fb74a5485aa4d008f0.jpg',\n",
              " 'drive/My Drive/Dogvision/train/058d4bfce39c9f1157ca4c1b019bbf1a.jpg',\n",
              " 'drive/My Drive/Dogvision/train/058ea5b467d08ed978658dc1ad85fb7d.jpg',\n",
              " 'drive/My Drive/Dogvision/train/05934390044791b8fd2dd2ba9c0b4b36.jpg',\n",
              " 'drive/My Drive/Dogvision/train/0593e37870ee77b0d34508e118bf6670.jpg',\n",
              " 'drive/My Drive/Dogvision/train/059513b85ae976a6f591f71bbaae49bf.jpg',\n",
              " 'drive/My Drive/Dogvision/train/059a86d50634c78d5a18f918cb0b3f0d.jpg',\n",
              " 'drive/My Drive/Dogvision/train/05a05cf4c8d6a4f3f780a9112a11999b.jpg',\n",
              " 'drive/My Drive/Dogvision/train/05a5e6f6b575688dc304ae72635db7b6.jpg',\n",
              " 'drive/My Drive/Dogvision/train/05a747c5853defa2420b976a9c0918a2.jpg',\n",
              " 'drive/My Drive/Dogvision/train/05b5e17b96409ca6db51edaf28bd3bdc.jpg',\n",
              " 'drive/My Drive/Dogvision/train/05bac66dfae763fb86ab6360bd3c6f5f.jpg',\n",
              " 'drive/My Drive/Dogvision/train/05beb3230462b740e5c56230eb27a7a4.jpg',\n",
              " 'drive/My Drive/Dogvision/train/05c128c8e3ef0c2739f181f9c5677f56.jpg',\n",
              " 'drive/My Drive/Dogvision/train/05cab78114abb08afcda78ee70222edd.jpg',\n",
              " 'drive/My Drive/Dogvision/train/05d6e6de49a6999e56de23c4608af441.jpg',\n",
              " 'drive/My Drive/Dogvision/train/05e25c8ec67962c2ef4dd7b0f6aa3918.jpg',\n",
              " 'drive/My Drive/Dogvision/train/05e3dfffd0b0dca56e6b1d4686e1a6c2.jpg',\n",
              " 'drive/My Drive/Dogvision/train/05e93a5604440b065143c81be16cd395.jpg',\n",
              " 'drive/My Drive/Dogvision/train/05f59d40acf74affda3c8940ba192f42.jpg',\n",
              " 'drive/My Drive/Dogvision/train/05fbe54802ffb6d6256abb93381f5cf4.jpg',\n",
              " 'drive/My Drive/Dogvision/train/060112a1a77217039de21f7d0963929d.jpg',\n",
              " 'drive/My Drive/Dogvision/train/060b163b5ad74c889c47b9f421825cdb.jpg',\n",
              " 'drive/My Drive/Dogvision/train/061592707868d5ced7ee050cb383072d.jpg',\n",
              " 'drive/My Drive/Dogvision/train/061a378e68e8734682ea9c04a572e2ab.jpg',\n",
              " 'drive/My Drive/Dogvision/train/061e9891cd5e77345e3cff761c12db4d.jpg',\n",
              " 'drive/My Drive/Dogvision/train/062131c6c38a1e485091c8c3329d9638.jpg',\n",
              " 'drive/My Drive/Dogvision/train/06223770cd0968a5fa81b2898e65e34a.jpg',\n",
              " 'drive/My Drive/Dogvision/train/06412667e714332186d0cf86375e98fb.jpg',\n",
              " 'drive/My Drive/Dogvision/train/06448bf4366760660b6a7611d93d7533.jpg',\n",
              " 'drive/My Drive/Dogvision/train/064dff92e5654a8679f8971a027a4040.jpg',\n",
              " 'drive/My Drive/Dogvision/train/065221667b1ed903e364b9063ee2195b.jpg',\n",
              " 'drive/My Drive/Dogvision/train/06538c8ad646eb2ebbbbdda1c8174899.jpg',\n",
              " 'drive/My Drive/Dogvision/train/0653d31ae648e2a6628ee3f440729361.jpg',\n",
              " 'drive/My Drive/Dogvision/train/065452ccfffdc6b6f60183bd6c88ba89.jpg',\n",
              " 'drive/My Drive/Dogvision/train/06557d54077c5265ecdcd7273c9c38ca.jpg',\n",
              " 'drive/My Drive/Dogvision/train/0672592809da7574a87ddcd0ba2f315d.jpg',\n",
              " 'drive/My Drive/Dogvision/train/0672befac9ea0c8fe82c37b5a634d87c.jpg',\n",
              " 'drive/My Drive/Dogvision/train/068314c65cbe67fa4f57283f4f3a801c.jpg',\n",
              " 'drive/My Drive/Dogvision/train/0685bcc6cdaa954771379d95d339baf6.jpg',\n",
              " 'drive/My Drive/Dogvision/train/06ab2182c2a958a5f0de2035f39a0fa7.jpg',\n",
              " 'drive/My Drive/Dogvision/train/06ba5a21442ba19190bfe7bfa9def11c.jpg',\n",
              " 'drive/My Drive/Dogvision/train/06bd6a364e68b886c085b9b8b8d2b818.jpg',\n",
              " 'drive/My Drive/Dogvision/train/06c47d61293f2bb51a94040bb4b20799.jpg',\n",
              " 'drive/My Drive/Dogvision/train/06c4dbc5b0ea3674bbc752c4ce76819a.jpg',\n",
              " 'drive/My Drive/Dogvision/train/06cceae049531cdb98fe67d912aa58a8.jpg',\n",
              " 'drive/My Drive/Dogvision/train/06cd8e3fbfe72c34461814239e1deab8.jpg',\n",
              " 'drive/My Drive/Dogvision/train/06ce71ab05143b1fe45ba8eeba2e97e4.jpg',\n",
              " 'drive/My Drive/Dogvision/train/06d2d84b936225e6c853a0453cb9c878.jpg',\n",
              " 'drive/My Drive/Dogvision/train/06d80d6a7aba8bc48606a285bbad0697.jpg',\n",
              " 'drive/My Drive/Dogvision/train/06e548623971fbdf8c80b0614f811f50.jpg',\n",
              " 'drive/My Drive/Dogvision/train/06faa041b335551e3ccf3c239d006425.jpg',\n",
              " 'drive/My Drive/Dogvision/train/06fe22a92fa8dc8f90e7a0f118acad6f.jpg',\n",
              " 'drive/My Drive/Dogvision/train/0700d58c82bafe9c4edc81f902178e76.jpg',\n",
              " 'drive/My Drive/Dogvision/train/07096719a671e1737b829bd1a88f1dbf.jpg',\n",
              " 'drive/My Drive/Dogvision/train/0709abee3095717f43db409dd7ce769b.jpg',\n",
              " 'drive/My Drive/Dogvision/train/070e8ff540cc8113939ae5dba4a24f80.jpg',\n",
              " 'drive/My Drive/Dogvision/train/071652f5f5d0bf00983c075e96ad725f.jpg',\n",
              " 'drive/My Drive/Dogvision/train/0718d39d59d9e3b134446440d69b2058.jpg',\n",
              " 'drive/My Drive/Dogvision/train/07192213791150248bfb5bbe6b0b0373.jpg',\n",
              " 'drive/My Drive/Dogvision/train/0724948de3506f43cda65804efe79b9b.jpg',\n",
              " 'drive/My Drive/Dogvision/train/072aa9d6100187288ef00316c8bcdd66.jpg',\n",
              " 'drive/My Drive/Dogvision/train/0734a945cc1ab35a9d2348db42075a99.jpg',\n",
              " 'drive/My Drive/Dogvision/train/073b9a44c4761fa0792943b61b9c812c.jpg',\n",
              " 'drive/My Drive/Dogvision/train/073bb2f975ee39406e692e33364762a3.jpg',\n",
              " 'drive/My Drive/Dogvision/train/073f0821a0842917e6e97ab322bd63f2.jpg',\n",
              " 'drive/My Drive/Dogvision/train/0743bfe9525b7a6310a297b11b7e154a.jpg',\n",
              " 'drive/My Drive/Dogvision/train/07466e87275ed10056a9d2cbb4c733d8.jpg',\n",
              " 'drive/My Drive/Dogvision/train/0755a940eac9a9b8cf0328b4be062096.jpg',\n",
              " 'drive/My Drive/Dogvision/train/075a28044780636f48d8571f1d32f73d.jpg',\n",
              " 'drive/My Drive/Dogvision/train/0769e276e8b9b992a3fcd6a10deee6a7.jpg',\n",
              " 'drive/My Drive/Dogvision/train/076d31a2f676671e4427cc485b9d2918.jpg',\n",
              " 'drive/My Drive/Dogvision/train/0773acd6874a703b966367d4d27cac71.jpg',\n",
              " 'drive/My Drive/Dogvision/train/07751d1687e0233ff638889d8b365709.jpg',\n",
              " 'drive/My Drive/Dogvision/train/0779e164a5bed1119e36e622107c6a77.jpg',\n",
              " 'drive/My Drive/Dogvision/train/079509ceab0968ce07cffa0df479f1b0.jpg',\n",
              " 'drive/My Drive/Dogvision/train/079a7ad36b46704c28d88c4aa183c28e.jpg',\n",
              " 'drive/My Drive/Dogvision/train/079e17a742380d333950962f2c83ffd2.jpg',\n",
              " 'drive/My Drive/Dogvision/train/079f6255a19fdbaa75fb2a902bca894c.jpg',\n",
              " 'drive/My Drive/Dogvision/train/07a0214fa84969b5256bf7d20f1b3a9b.jpg',\n",
              " 'drive/My Drive/Dogvision/train/07a215abb3ff16fd19a5b832c8f3408b.jpg',\n",
              " 'drive/My Drive/Dogvision/train/07a4fcb31d0c6259f5ec21a1f193bc39.jpg',\n",
              " 'drive/My Drive/Dogvision/train/07b46335006fbbe0328aeb8213b874ce.jpg',\n",
              " 'drive/My Drive/Dogvision/train/07b5288a0bb8b9cf1a42d281a9451e51.jpg',\n",
              " 'drive/My Drive/Dogvision/train/07bbf36ce2c7407751219804b3d187ec.jpg',\n",
              " 'drive/My Drive/Dogvision/train/07c7389196b5dde668d740089f9ebc22.jpg',\n",
              " 'drive/My Drive/Dogvision/train/07d1dd1576b5e95f448c1213b6812c40.jpg',\n",
              " 'drive/My Drive/Dogvision/train/07d6e906eb95f24c53eb92ecc2d47783.jpg',\n",
              " 'drive/My Drive/Dogvision/train/07d7cfbdbd3682cae50902b53c798028.jpg',\n",
              " 'drive/My Drive/Dogvision/train/07ddc3c2188164b1e72ae6615a24419a.jpg',\n",
              " 'drive/My Drive/Dogvision/train/07e103146c1f4513647ddb9614210320.jpg',\n",
              " 'drive/My Drive/Dogvision/train/07e12e8064b6b17a94608ba5fd78a72e.jpg',\n",
              " 'drive/My Drive/Dogvision/train/07ebe25829d387cef30160285d50e232.jpg',\n",
              " 'drive/My Drive/Dogvision/train/07eeb2ef42c6b260684e8cb8e8c4ba70.jpg',\n",
              " 'drive/My Drive/Dogvision/train/07f1b6214597af2f04a27c375a602a0c.jpg',\n",
              " 'drive/My Drive/Dogvision/train/07f95d08b40f1402abdab79b1f834e4c.jpg',\n",
              " 'drive/My Drive/Dogvision/train/080073330bb8954505340cf18159fbb8.jpg',\n",
              " 'drive/My Drive/Dogvision/train/08098e0a4074f62169ab53f7efe40da2.jpg',\n",
              " 'drive/My Drive/Dogvision/train/080ebefee69f27243b185c113052963e.jpg',\n",
              " 'drive/My Drive/Dogvision/train/080ec59213ed7425b7f8c169955bb9d0.jpg',\n",
              " 'drive/My Drive/Dogvision/train/0811e959c0fa3b1c7af6be4f645a9464.jpg',\n",
              " 'drive/My Drive/Dogvision/train/08149eb72785553570f74a6effea8d7e.jpg',\n",
              " 'drive/My Drive/Dogvision/train/0815082cf02417e80f4df9dfba17aa13.jpg',\n",
              " 'drive/My Drive/Dogvision/train/081ee1793b0e0027f8cccf9dc4513d53.jpg',\n",
              " 'drive/My Drive/Dogvision/train/081f6b553afb94d1f192f08cc3ac5762.jpg',\n",
              " 'drive/My Drive/Dogvision/train/0822709f6f6ea0be1928f52b8eecbc2f.jpg',\n",
              " 'drive/My Drive/Dogvision/train/0825e8471e3c9a14dc341bdd8630f05e.jpg',\n",
              " 'drive/My Drive/Dogvision/train/083820e6dda52da4c0f200ac36f582dc.jpg',\n",
              " 'drive/My Drive/Dogvision/train/084c4f43ecc2630587de6c3e543525c3.jpg',\n",
              " 'drive/My Drive/Dogvision/train/084f941981c326f26ea77158fb449c57.jpg',\n",
              " 'drive/My Drive/Dogvision/train/08571d6bb5ecf6c9b7a145dc24043088.jpg',\n",
              " 'drive/My Drive/Dogvision/train/0857307dddb1b41288887ef2338af6df.jpg',\n",
              " 'drive/My Drive/Dogvision/train/085b26edb3ee9688d41c4293aafe0162.jpg',\n",
              " 'drive/My Drive/Dogvision/train/085faff5f472098801b371f077b2dc8b.jpg',\n",
              " 'drive/My Drive/Dogvision/train/0861355ea326a82de3aab420d4276e5b.jpg',\n",
              " 'drive/My Drive/Dogvision/train/08644ddaf5a3ca7f08fcab7561ec4eea.jpg',\n",
              " 'drive/My Drive/Dogvision/train/086e8ca78ec3303a8f06df003ecb6612.jpg',\n",
              " 'drive/My Drive/Dogvision/train/08774c223487c1c880b447aae6a7e0b2.jpg',\n",
              " 'drive/My Drive/Dogvision/train/08782eb5ac167ca5f8feaccb519e9b4e.jpg',\n",
              " 'drive/My Drive/Dogvision/train/087b211f15ad8095ba90c0be54c1c30d.jpg',\n",
              " 'drive/My Drive/Dogvision/train/087cd02ca089fc0f30841a6a89e3a619.jpg',\n",
              " 'drive/My Drive/Dogvision/train/08829c00da02dea80eb491122989492f.jpg',\n",
              " 'drive/My Drive/Dogvision/train/0883e6cc994d9ba90592f400d502d838.jpg',\n",
              " 'drive/My Drive/Dogvision/train/088be435c5245f79c448812169a30cb5.jpg',\n",
              " 'drive/My Drive/Dogvision/train/088cdda83ef0920d130398f7724b391f.jpg',\n",
              " 'drive/My Drive/Dogvision/train/0891ce3700686a8df5b4bd711be44ea9.jpg',\n",
              " 'drive/My Drive/Dogvision/train/08946697b3e50e602d6bea765c8fb9f5.jpg',\n",
              " 'drive/My Drive/Dogvision/train/0895dd35b3afa2a4f8a0b6f3ad98134a.jpg',\n",
              " 'drive/My Drive/Dogvision/train/089bce55f74e34940b3782e11c1bd2b5.jpg',\n",
              " 'drive/My Drive/Dogvision/train/089fd270df9e42e3f741452a4e437dc5.jpg',\n",
              " 'drive/My Drive/Dogvision/train/08af52c888b0f5735c3ced810771601d.jpg',\n",
              " 'drive/My Drive/Dogvision/train/08b49c79fafad70a23c770b1fcaa89ba.jpg',\n",
              " 'drive/My Drive/Dogvision/train/08e4013c0ddc710c57d1d188bf7c0cfe.jpg',\n",
              " 'drive/My Drive/Dogvision/train/08e5e75d29184a82a9dada752c9c4afb.jpg',\n",
              " 'drive/My Drive/Dogvision/train/08e99ed86b0ce429fef52a8ca33e1551.jpg',\n",
              " 'drive/My Drive/Dogvision/train/08ea34bfdc88f5b1e0eef0b76d832c8e.jpg',\n",
              " 'drive/My Drive/Dogvision/train/08ea655aa168d87806340c336d07f1c9.jpg',\n",
              " 'drive/My Drive/Dogvision/train/08ed3bf636ad906f5ddea9ebda22ff98.jpg',\n",
              " 'drive/My Drive/Dogvision/train/09037f0995111a413fd8e976f3680f09.jpg',\n",
              " 'drive/My Drive/Dogvision/train/091306dd0d110a677fe0de1ad066f160.jpg',\n",
              " 'drive/My Drive/Dogvision/train/092220a7a8081144a7485efb6c087fe2.jpg',\n",
              " 'drive/My Drive/Dogvision/train/09288e5c39391b780412561163b10bf5.jpg',\n",
              " 'drive/My Drive/Dogvision/train/092c2cdbf133b201d7d56969bfbcc8f6.jpg',\n",
              " 'drive/My Drive/Dogvision/train/093a146e173a3fd9ea650b87f08d6222.jpg',\n",
              " 'drive/My Drive/Dogvision/train/093fc67079701f48bd1d2e52a684ed9e.jpg',\n",
              " 'drive/My Drive/Dogvision/train/09438173067ccee8d4a1a45f2f8a8eb6.jpg',\n",
              " 'drive/My Drive/Dogvision/train/0943d1d4677ab876b52468096baaa2ce.jpg',\n",
              " 'drive/My Drive/Dogvision/train/0944fbca92fad9a38af10b3d1943cb54.jpg',\n",
              " 'drive/My Drive/Dogvision/train/09477e5059ebb15cad5f37fb3b9b1889.jpg',\n",
              " 'drive/My Drive/Dogvision/train/094b97e52d00895fbf6769724e1b0e7d.jpg',\n",
              " 'drive/My Drive/Dogvision/train/0959e919604a931fc1ae379b7a75911a.jpg',\n",
              " 'drive/My Drive/Dogvision/train/095d868f796f86c8258750365a04f2cd.jpg',\n",
              " 'drive/My Drive/Dogvision/train/0964a2558fc9aa293a6a934d49f64968.jpg',\n",
              " 'drive/My Drive/Dogvision/train/0964e161b379740955fa95d8d4c8697e.jpg',\n",
              " 'drive/My Drive/Dogvision/train/0974b614b86b829821067bd0b1808b8c.jpg',\n",
              " 'drive/My Drive/Dogvision/train/097ef8eca8fc340249b0bbc2b745972c.jpg',\n",
              " 'drive/My Drive/Dogvision/train/098333d51970304787c7061f3e683c5b.jpg',\n",
              " 'drive/My Drive/Dogvision/train/09839ef1c5a5a5b3acb61c4093cab07f.jpg',\n",
              " 'drive/My Drive/Dogvision/train/098c50d7ba4f07d9aba8c6162aa70b50.jpg',\n",
              " 'drive/My Drive/Dogvision/train/098c722479a8288c57b545781d5c54bd.jpg',\n",
              " 'drive/My Drive/Dogvision/train/098dc5e173d21c229e6ee565d7666b10.jpg',\n",
              " 'drive/My Drive/Dogvision/train/0990fe6be15d9d556eac8712db3c8094.jpg',\n",
              " 'drive/My Drive/Dogvision/train/09927a82d649607a7704ac6043cdfa9a.jpg',\n",
              " 'drive/My Drive/Dogvision/train/0995f642fe4baab3cb3534725dfedb75.jpg',\n",
              " 'drive/My Drive/Dogvision/train/0998eda08cdb14648e444c15f06658af.jpg',\n",
              " 'drive/My Drive/Dogvision/train/099b068027c41251d29f75a311cc5e5c.jpg',\n",
              " 'drive/My Drive/Dogvision/train/099db37801090ed56bbc95c13d3799b9.jpg',\n",
              " 'drive/My Drive/Dogvision/train/09a1ea62ffa4b9389c03162bb0b0b572.jpg',\n",
              " 'drive/My Drive/Dogvision/train/09a6fd935dd1a4dee29b97885cfa9318.jpg',\n",
              " 'drive/My Drive/Dogvision/train/09aec2a169942b17d88b4b5f1bba5886.jpg',\n",
              " 'drive/My Drive/Dogvision/train/09beb7445a14486752bd25f69e952ebc.jpg',\n",
              " 'drive/My Drive/Dogvision/train/09c62a1ff26b3e83a2d476c2add054b1.jpg',\n",
              " 'drive/My Drive/Dogvision/train/09c986f317783fb5ae091b334e79ac5a.jpg',\n",
              " 'drive/My Drive/Dogvision/train/09d462e2ad4d8c51d1a8430577891d8a.jpg',\n",
              " 'drive/My Drive/Dogvision/train/09d497888fd1e6745f67a78269139620.jpg',\n",
              " 'drive/My Drive/Dogvision/train/09d5ac8026b8a7f7d1acae244765fe24.jpg',\n",
              " 'drive/My Drive/Dogvision/train/09d7cc03f9e9730bda53b4a590351838.jpg',\n",
              " 'drive/My Drive/Dogvision/train/09ea184490e5da33eb3d851ee6361941.jpg',\n",
              " 'drive/My Drive/Dogvision/train/09fc0a4acd13c78c02cdb251f193231d.jpg',\n",
              " 'drive/My Drive/Dogvision/train/0a001d75def0b4352ebde8d07c0850ae.jpg',\n",
              " 'drive/My Drive/Dogvision/train/0a077ea0c8fa54d95f75e690b2c8196b.jpg',\n",
              " 'drive/My Drive/Dogvision/train/0a0c223352985ec154fd604d7ddceabd.jpg',\n",
              " 'drive/My Drive/Dogvision/train/0a135c5ee55edf4bd9631d4e15264788.jpg',\n",
              " 'drive/My Drive/Dogvision/train/0a13f9596e03a9f87c96aaff6e057048.jpg',\n",
              " 'drive/My Drive/Dogvision/train/0a1b0b7df2918d543347050ad8b16051.jpg',\n",
              " 'drive/My Drive/Dogvision/train/0a1f8334a9f583cac009dc033c681e47.jpg',\n",
              " 'drive/My Drive/Dogvision/train/0a27d304c96918d440e79e6e9e245c3f.jpg',\n",
              " 'drive/My Drive/Dogvision/train/0a3f1898556115d6d0931294876cd1d9.jpg',\n",
              " 'drive/My Drive/Dogvision/train/0a409042dd36b2c8293c67d4d4ea9ef9.jpg',\n",
              " 'drive/My Drive/Dogvision/train/0a4116a80e753f7b0adf4149f551a3a7.jpg',\n",
              " 'drive/My Drive/Dogvision/train/0a438069d5a8a8a079ac131d74c3a366.jpg',\n",
              " 'drive/My Drive/Dogvision/train/0a4f1e17d720cdff35814651402b7cf4.jpg',\n",
              " 'drive/My Drive/Dogvision/train/0a541df84dd3febb076e2c33a23cd230.jpg',\n",
              " 'drive/My Drive/Dogvision/train/0a5958a7f6836cbe349a4cedfe7178a6.jpg',\n",
              " 'drive/My Drive/Dogvision/train/0a5f744c5077ad8f8d580081ba599ff5.jpg',\n",
              " 'drive/My Drive/Dogvision/train/0a65ba3ab9b29c66e15cec76f34eca6f.jpg',\n",
              " 'drive/My Drive/Dogvision/train/0a6706f7864eb8871913f0e4ba07a61e.jpg',\n",
              " 'drive/My Drive/Dogvision/train/0a688b0783f472c84bbfe1c56efea1c6.jpg',\n",
              " 'drive/My Drive/Dogvision/train/0a6c192b96e55e2ca37318919b1ffae6.jpg',\n",
              " 'drive/My Drive/Dogvision/train/0a70f64352edfef4c82c22015f0e3a20.jpg',\n",
              " 'drive/My Drive/Dogvision/train/0a77b9015c37f39c92b5399dc29da97c.jpg',\n",
              " 'drive/My Drive/Dogvision/train/0a77d498ff491945347bb895d8ae4008.jpg',\n",
              " 'drive/My Drive/Dogvision/train/0a783538d5f3aaf017b435ddf14cc5c2.jpg',\n",
              " 'drive/My Drive/Dogvision/train/0a7899ed6a15f4af8f28e01c9c44dcfe.jpg',\n",
              " 'drive/My Drive/Dogvision/train/0a7f8d31c960071d0d4cfba36c0159c7.jpg',\n",
              " 'drive/My Drive/Dogvision/train/0a86c8b48bddb0155645f3a27f48292f.jpg',\n",
              " 'drive/My Drive/Dogvision/train/0a896d2b3af617df543787b571e439d8.jpg',\n",
              " 'drive/My Drive/Dogvision/train/0a8b6985bbe58a58909b5ef0a7d5a1aa.jpg',\n",
              " 'drive/My Drive/Dogvision/train/0a9322a30aff755dac328022266e3740.jpg',\n",
              " 'drive/My Drive/Dogvision/train/0a96f376d746b191fcc6e4812a603f7f.jpg',\n",
              " 'drive/My Drive/Dogvision/train/0a9832b18d360f50f5b3b2ab4c540ddc.jpg',\n",
              " 'drive/My Drive/Dogvision/train/0a9f8c6ceadfff61072a565311777655.jpg',\n",
              " 'drive/My Drive/Dogvision/train/0a9f8f6543d0b33fe9474035dd5323ef.jpg',\n",
              " 'drive/My Drive/Dogvision/train/0aa31d6ecdb95ac7d3b7fa42b86bd91b.jpg',\n",
              " 'drive/My Drive/Dogvision/train/0ab12906ac3a87b531c574a15e79c58a.jpg',\n",
              " 'drive/My Drive/Dogvision/train/0ab8d4c80ae4e6bbeacd66fb7e52b851.jpg',\n",
              " 'drive/My Drive/Dogvision/train/0ab9cdefc666573f8019356ffefe0c69.jpg',\n",
              " 'drive/My Drive/Dogvision/train/0abdda879bb143b19e3c480279541915.jpg',\n",
              " 'drive/My Drive/Dogvision/train/0ac12e1849fd51b2158d16b8f5e75551.jpg',\n",
              " 'drive/My Drive/Dogvision/train/0ac12f840df2b15d46622e244501a88c.jpg',\n",
              " 'drive/My Drive/Dogvision/train/0acfee91dd38e53a20dd1488a17e9af9.jpg',\n",
              " 'drive/My Drive/Dogvision/train/0ad3d66ba7b2d5d6d608da088abca7c0.jpg',\n",
              " 'drive/My Drive/Dogvision/train/0adfec2804a1efe41f54758cd87cec01.jpg',\n",
              " 'drive/My Drive/Dogvision/train/0afb0d170c66aed12805f838041411ce.jpg',\n",
              " 'drive/My Drive/Dogvision/train/0afc7d87053cb44a529c78c0fac99886.jpg',\n",
              " 'drive/My Drive/Dogvision/train/0b102a6aa442aed98f137616e924e18e.jpg',\n",
              " 'drive/My Drive/Dogvision/train/0b178813be36410eda8742abe2153ced.jpg',\n",
              " 'drive/My Drive/Dogvision/train/0b1b49b8cf679eb3e2fb13ca6deba9b5.jpg',\n",
              " 'drive/My Drive/Dogvision/train/0b1cdb2a36dd432fcc7567959cb23798.jpg',\n",
              " 'drive/My Drive/Dogvision/train/0b1e71a499a26eaacc06991bca982523.jpg',\n",
              " 'drive/My Drive/Dogvision/train/0b2d69f59303805f17055bd59615a297.jpg',\n",
              " 'drive/My Drive/Dogvision/train/0b2e635ebad8aba82656c8fceb05018c.jpg',\n",
              " 'drive/My Drive/Dogvision/train/0b30d48dd2818cdea768d884623e8c2a.jpg',\n",
              " 'drive/My Drive/Dogvision/train/0b345d4f2434903c374ad8b8513a289b.jpg',\n",
              " 'drive/My Drive/Dogvision/train/0b346cec75418439f13eabdc7e96f33a.jpg',\n",
              " 'drive/My Drive/Dogvision/train/0b3d3120a62c2bc280f589d473041d06.jpg',\n",
              " 'drive/My Drive/Dogvision/train/0b465156a0844773fd47ce40d0dcc7db.jpg',\n",
              " 'drive/My Drive/Dogvision/train/0b5604e1cdfcb595ceb36424126a3e09.jpg',\n",
              " 'drive/My Drive/Dogvision/train/0b57520c27ed32bc21e35c38cb5dd268.jpg',\n",
              " 'drive/My Drive/Dogvision/train/0b6239db9b1649fe2f513357c82931aa.jpg',\n",
              " 'drive/My Drive/Dogvision/train/0b673cd41260b9fb998b0a8ad164b6d6.jpg',\n",
              " 'drive/My Drive/Dogvision/train/0b6837976df682360dc9ef25b81bc893.jpg',\n",
              " 'drive/My Drive/Dogvision/train/0b6c5bc46b7a0e29cddfa45b0b786d09.jpg',\n",
              " 'drive/My Drive/Dogvision/train/0b6da522f27c115716285a4f7187969e.jpg',\n",
              " 'drive/My Drive/Dogvision/train/0b72856996ad5826afff7195ff678589.jpg',\n",
              " 'drive/My Drive/Dogvision/train/0b86485ef980b0b4999e7ede1f90999e.jpg',\n",
              " 'drive/My Drive/Dogvision/train/0b97116ed04c8f0f7eb4a2b4b2620476.jpg',\n",
              " 'drive/My Drive/Dogvision/train/0b9be33db71b9237002df13d40b7282a.jpg',\n",
              " 'drive/My Drive/Dogvision/train/0b9d58d8d2626f80bbc5cc3ccf7e8bad.jpg',\n",
              " 'drive/My Drive/Dogvision/train/0b9fc8956444d4f5296ace3a4928541b.jpg',\n",
              " 'drive/My Drive/Dogvision/train/0ba0f44a7f83539a71e4d74f549c8be6.jpg',\n",
              " 'drive/My Drive/Dogvision/train/0ba12512fa4766cc4f8c288cb3b9b95f.jpg',\n",
              " 'drive/My Drive/Dogvision/train/0bac7ab4e3b6c7a5331067827cda04e6.jpg',\n",
              " 'drive/My Drive/Dogvision/train/0bad79c06832a1bdeaedbbb50a28450a.jpg',\n",
              " 'drive/My Drive/Dogvision/train/0bbb9ce1f03a205fead338f0be3040bc.jpg',\n",
              " 'drive/My Drive/Dogvision/train/0bbe00ace11a4dd944b8bcf8ca9772c1.jpg',\n",
              " 'drive/My Drive/Dogvision/train/0be68a5e7b40e9689c3ef2a9764bfcf6.jpg',\n",
              " 'drive/My Drive/Dogvision/train/0be845d1fe8a0ad6da6ffa454ab33e8a.jpg',\n",
              " 'drive/My Drive/Dogvision/train/0beb24726c7210a5021f22d6c511cd71.jpg',\n",
              " 'drive/My Drive/Dogvision/train/0bedbecd92390ef9f4f7c8b06a629340.jpg',\n",
              " 'drive/My Drive/Dogvision/train/0bf36935030d2b842b86526bdb367ff1.jpg',\n",
              " 'drive/My Drive/Dogvision/train/0bf89dcb09d8c76be568f17811664560.jpg',\n",
              " 'drive/My Drive/Dogvision/train/0c0955cddf9488d30e6e8d4ee7c18856.jpg',\n",
              " 'drive/My Drive/Dogvision/train/0c0bca6e79cc323669da06bab0013b12.jpg',\n",
              " 'drive/My Drive/Dogvision/train/0c0fb87fb13f0f6c8d21ff6c15e3361e.jpg',\n",
              " 'drive/My Drive/Dogvision/train/0c19867277e6c96ad8f487b4fe343ff9.jpg',\n",
              " 'drive/My Drive/Dogvision/train/0c1a1b2adfd0aa2fef3eb974b9b95734.jpg',\n",
              " 'drive/My Drive/Dogvision/train/0c1d98a09381f4dfffc510fab188f189.jpg',\n",
              " 'drive/My Drive/Dogvision/train/0c207c7af2d1ef71dc61434f04d00cdf.jpg',\n",
              " 'drive/My Drive/Dogvision/train/0c24a6dac8f0dc55edeb80a7b683af5e.jpg',\n",
              " 'drive/My Drive/Dogvision/train/0c286c574ef09562c123dafe5ce6ac23.jpg',\n",
              " 'drive/My Drive/Dogvision/train/0c2fdeb77e6e650e69ecca013c7e8e67.jpg',\n",
              " 'drive/My Drive/Dogvision/train/0c329020d6ca0ae5af30f6857ac7e86c.jpg',\n",
              " 'drive/My Drive/Dogvision/train/0c36c19e7c4e932b8e0c01aa845b2fce.jpg',\n",
              " 'drive/My Drive/Dogvision/train/0c378307f600ba007a7eaa50fba6d0b8.jpg',\n",
              " 'drive/My Drive/Dogvision/train/0c3b282ecbed1ca9eb17de4cb1b6e326.jpg',\n",
              " 'drive/My Drive/Dogvision/train/0c4ac597d196aaf07f3af039b8fd6925.jpg',\n",
              " 'drive/My Drive/Dogvision/train/0c64a816fcd8aa13dbd4e874307bad51.jpg',\n",
              " 'drive/My Drive/Dogvision/train/0c68a578981993b919e89c611f04a97f.jpg',\n",
              " 'drive/My Drive/Dogvision/train/0c71084d955bfca989d865cbcf8cf8ae.jpg',\n",
              " 'drive/My Drive/Dogvision/train/0c71338af3f3a8c068ec28b5f6b8f8ae.jpg',\n",
              " 'drive/My Drive/Dogvision/train/0c8fe33bd89646b678f6b2891df8a1c6.jpg',\n",
              " 'drive/My Drive/Dogvision/train/0c9bac77cd53f1c6756c7581e9b0bd00.jpg',\n",
              " 'drive/My Drive/Dogvision/train/0c9fc0f58a6724ca680c76785a452bba.jpg',\n",
              " 'drive/My Drive/Dogvision/train/0ca382d7309e346ac802a202d0fa8c67.jpg',\n",
              " 'drive/My Drive/Dogvision/train/0ca9280205bd68d201e1d708db3f209d.jpg',\n",
              " 'drive/My Drive/Dogvision/train/0cb1bf12ae0fd5f681ae579c2a28ccd8.jpg',\n",
              " 'drive/My Drive/Dogvision/train/0cb5839c82f7c1286e55f260d4e608c4.jpg',\n",
              " 'drive/My Drive/Dogvision/train/0cbca2fcad7910a3c98d734e17cfde65.jpg',\n",
              " 'drive/My Drive/Dogvision/train/0cbdda18846cd014dcb0e18fa67f3f98.jpg',\n",
              " 'drive/My Drive/Dogvision/train/0cdd66f35d9b7d8b0a98a4d506396c0d.jpg',\n",
              " 'drive/My Drive/Dogvision/train/0ce7dd8b119184e91088336ec6973d53.jpg',\n",
              " 'drive/My Drive/Dogvision/train/0cf285cc3f1625bd80288cd6b7ddb7e0.jpg',\n",
              " 'drive/My Drive/Dogvision/train/0cf4dabd83d91e22f6ce845fe81fa21d.jpg',\n",
              " 'drive/My Drive/Dogvision/train/0d0d0f7c689020c35b83a91e7717624b.jpg',\n",
              " 'drive/My Drive/Dogvision/train/0d103ca7cf575757374f8f6ae87d8868.jpg',\n",
              " 'drive/My Drive/Dogvision/train/0d1d7bacd20ef921e9b3fce6d9b9f9f0.jpg',\n",
              " 'drive/My Drive/Dogvision/train/0d2129d0eda43dd8514ea309c29ddbb0.jpg',\n",
              " 'drive/My Drive/Dogvision/train/0d2dc4f72cc5d6d26055989b217a2450.jpg',\n",
              " 'drive/My Drive/Dogvision/train/0d2f9e12a2611d911d91a339074c8154.jpg',\n",
              " 'drive/My Drive/Dogvision/train/0d303784e6740e5de249e1f2078a7b4b.jpg',\n",
              " 'drive/My Drive/Dogvision/train/0d30e235aebdde78be6e2a59becb582d.jpg',\n",
              " 'drive/My Drive/Dogvision/train/0d37ea8a209eb60e9c03eaedf3fd5384.jpg',\n",
              " 'drive/My Drive/Dogvision/train/0d3b46bdc45c8bc24ed89cff69f06ab3.jpg',\n",
              " 'drive/My Drive/Dogvision/train/0d4e09456d9ebfdb076e34326586f18e.jpg',\n",
              " 'drive/My Drive/Dogvision/train/0d579f92d60935a54aa6dba6e6213257.jpg',\n",
              " 'drive/My Drive/Dogvision/train/0d5a88f0ab2db8d34b533c69768135e8.jpg',\n",
              " 'drive/My Drive/Dogvision/train/0d68c98ac13f84032cb863abf0498a02.jpg',\n",
              " 'drive/My Drive/Dogvision/train/0d693ab130c18e15f923f59eb102def9.jpg',\n",
              " 'drive/My Drive/Dogvision/train/0d695ef1bfe438be0cedcb8ef146afad.jpg',\n",
              " 'drive/My Drive/Dogvision/train/0d6bab298a320221f08c49c701d3e06f.jpg',\n",
              " 'drive/My Drive/Dogvision/train/0d6c6238a4cc499bb57fa0c10a15f8ad.jpg',\n",
              " 'drive/My Drive/Dogvision/train/0d74e47d162e023bb1ae5aae40276fd6.jpg',\n",
              " 'drive/My Drive/Dogvision/train/0d82788cd302dba65793ea68f55cc649.jpg',\n",
              " 'drive/My Drive/Dogvision/train/0d83fbe9ab3684226edd81a13411bdf8.jpg',\n",
              " 'drive/My Drive/Dogvision/train/0d8858e722c5f9834ddbdcecbf3cd4d6.jpg',\n",
              " 'drive/My Drive/Dogvision/train/0d8d386390ba269dd4e475c20b91e8f9.jpg',\n",
              " 'drive/My Drive/Dogvision/train/0d96ca29ff2e557e93c3de0ba017ff61.jpg',\n",
              " 'drive/My Drive/Dogvision/train/0daad4c8568dd89f295f6c3837b772df.jpg',\n",
              " 'drive/My Drive/Dogvision/train/0db44ddb42bf1f97de987abe2bf01839.jpg',\n",
              " 'drive/My Drive/Dogvision/train/0dbf0bd0fdc7b594de02e573b1a04a56.jpg',\n",
              " 'drive/My Drive/Dogvision/train/0dc3196b4213a2733d7f4bdcd41699d3.jpg',\n",
              " 'drive/My Drive/Dogvision/train/0dc45e3e57bbcfccc550479d57b39951.jpg',\n",
              " 'drive/My Drive/Dogvision/train/0dc7954749dc0224639be29aba3f1708.jpg',\n",
              " 'drive/My Drive/Dogvision/train/0dcb8150908bbb7b7fff1b9d41a358ba.jpg',\n",
              " 'drive/My Drive/Dogvision/train/0dd1914e122292dfbb25e35537b511f6.jpg',\n",
              " 'drive/My Drive/Dogvision/train/0dd7b725203b91c30ca4f796d168e6ba.jpg',\n",
              " 'drive/My Drive/Dogvision/train/0ddbc4702eff570783cd03645571e7f7.jpg',\n",
              " 'drive/My Drive/Dogvision/train/0dde7ba887ee083616993d5892db139f.jpg',\n",
              " 'drive/My Drive/Dogvision/train/0ddf7ab49836b36081621a655f3a5c21.jpg',\n",
              " 'drive/My Drive/Dogvision/train/0df07a23ab97135ce7d390f2d12e388d.jpg',\n",
              " 'drive/My Drive/Dogvision/train/0df3cd4042fa7c2a6e008a3a849a23d1.jpg',\n",
              " 'drive/My Drive/Dogvision/train/0df400016a7e7ab4abff824bf2743f02.jpg',\n",
              " 'drive/My Drive/Dogvision/train/0df4124761f7303a0080d50377f2ec7b.jpg',\n",
              " 'drive/My Drive/Dogvision/train/0dff1edc6643df0d8ea6e0c5ca63b133.jpg',\n",
              " 'drive/My Drive/Dogvision/train/0e0e44349e6955bea9fea91de26a6980.jpg',\n",
              " 'drive/My Drive/Dogvision/train/0e167bb5c5d4736190d220d081d1de23.jpg',\n",
              " 'drive/My Drive/Dogvision/train/0e1ac042292a573ecd0ec71b3b646997.jpg',\n",
              " 'drive/My Drive/Dogvision/train/0e1fcfa1796f8c54b9fa4b56a3a1fc4e.jpg',\n",
              " 'drive/My Drive/Dogvision/train/0e24a584e10db2c8f827ab00772e29cf.jpg',\n",
              " 'drive/My Drive/Dogvision/train/0e33a6b9235d5cbb8712daf0abbd0007.jpg',\n",
              " 'drive/My Drive/Dogvision/train/0e3cdff3560de43a8aa1d9820c211fae.jpg',\n",
              " 'drive/My Drive/Dogvision/train/0e403e86dc961d59fec94dfb62968a53.jpg',\n",
              " 'drive/My Drive/Dogvision/train/0e47c35f24067b19557e15fcfd48778c.jpg',\n",
              " 'drive/My Drive/Dogvision/train/0e532335572b91360975154c90381689.jpg',\n",
              " 'drive/My Drive/Dogvision/train/0e549376cfed70cf2a5b84e7a42d85ef.jpg',\n",
              " 'drive/My Drive/Dogvision/train/0e63b24bfd67158963830f64b5126aef.jpg',\n",
              " 'drive/My Drive/Dogvision/train/0e6e4b104e3cdf4c1963d74a27390f8e.jpg',\n",
              " 'drive/My Drive/Dogvision/train/0e6f7b1083d38cfef96ccdf3171608d3.jpg',\n",
              " 'drive/My Drive/Dogvision/train/0e708dfe2a8c60849a4b625eda57d118.jpg',\n",
              " 'drive/My Drive/Dogvision/train/0e756365807ec27c6dfd944ba5b442b3.jpg',\n",
              " 'drive/My Drive/Dogvision/train/0e7691c13a9267b621ffb866a83d08aa.jpg',\n",
              " 'drive/My Drive/Dogvision/train/0e7712450813da57f7df73fc45a183b4.jpg',\n",
              " 'drive/My Drive/Dogvision/train/0e7856dbcebb2268b839888c7972e8fb.jpg',\n",
              " 'drive/My Drive/Dogvision/train/0e79be614f12deb4f7cae18614b7391b.jpg',\n",
              " 'drive/My Drive/Dogvision/train/0e8d2f2fcb0efac6b731c191beb66559.jpg',\n",
              " 'drive/My Drive/Dogvision/train/0e934073a6b9505c0ded4e34437ca538.jpg',\n",
              " 'drive/My Drive/Dogvision/train/0e94678bb5498dc6df640553bf3a1b2f.jpg',\n",
              " 'drive/My Drive/Dogvision/train/0e96d18ac522425bd231c3d8a32159da.jpg',\n",
              " 'drive/My Drive/Dogvision/train/0ea00d73664139c52ee1eaabc77ea478.jpg',\n",
              " 'drive/My Drive/Dogvision/train/0ea5759640f2e1c2d1a06adaf8a54ca7.jpg',\n",
              " 'drive/My Drive/Dogvision/train/0ea78b024dc3955332d3ddb08b8e50f0.jpg',\n",
              " 'drive/My Drive/Dogvision/train/0eac90a6621ecbf97adfec04596b77a3.jpg',\n",
              " 'drive/My Drive/Dogvision/train/0eaea4c6fe055607ed8322db0306285f.jpg',\n",
              " 'drive/My Drive/Dogvision/train/0eafdcc7628b2c74983819f40c763c2f.jpg',\n",
              " 'drive/My Drive/Dogvision/train/0eb00c6fc429ecc2cf8745a6334594ad.jpg',\n",
              " 'drive/My Drive/Dogvision/train/0eb297c3d5f6cc93371f02f4ed35879c.jpg',\n",
              " 'drive/My Drive/Dogvision/train/0eb6e0f872b393654bea530bfc2cac1d.jpg',\n",
              " 'drive/My Drive/Dogvision/train/0ebfd68f64bd750fca790f0b40d69481.jpg',\n",
              " 'drive/My Drive/Dogvision/train/0ec6e2d3078a83ccc3f7fd5a4ac01e3e.jpg',\n",
              " 'drive/My Drive/Dogvision/train/0ec8020bc2c4bc1646a81737be8580e0.jpg',\n",
              " 'drive/My Drive/Dogvision/train/0ec9be8b32f2b9eff2b817a7f722b118.jpg',\n",
              " 'drive/My Drive/Dogvision/train/0eeb17d40281f3bd639de24ca662c5d2.jpg',\n",
              " 'drive/My Drive/Dogvision/train/0ef07f4a6706a04af9ff354e263a28b3.jpg',\n",
              " 'drive/My Drive/Dogvision/train/0ef688efcc98bc287976c3d4d8145ae8.jpg',\n",
              " 'drive/My Drive/Dogvision/train/0ef80d6c4d739faaae8d3cc08c696c54.jpg',\n",
              " 'drive/My Drive/Dogvision/train/0f015731185a2308c1a85eed4e8ad728.jpg',\n",
              " 'drive/My Drive/Dogvision/train/0f03e05c333f7e5538d4c90f9c837796.jpg',\n",
              " 'drive/My Drive/Dogvision/train/0f04466edd10d6c1d27e123399cf4433.jpg',\n",
              " 'drive/My Drive/Dogvision/train/0f0effd9b5d25fdab84c2a8ae17d6deb.jpg',\n",
              " 'drive/My Drive/Dogvision/train/0f0f297dca75b5c780316a0f4169a950.jpg',\n",
              " 'drive/My Drive/Dogvision/train/0f1c3858495a49949934d2a635e190cf.jpg',\n",
              " 'drive/My Drive/Dogvision/train/0f23ce5c1129ad70c079d262448d9fac.jpg',\n",
              " 'drive/My Drive/Dogvision/train/0f26d3f7ff65d0713f36cd8cfe6c7a5f.jpg',\n",
              " 'drive/My Drive/Dogvision/train/0f2a90c737499a7d8bf26bb5348874da.jpg',\n",
              " 'drive/My Drive/Dogvision/train/0f2c56b4d40a8e86b8c91545e625b79a.jpg',\n",
              " 'drive/My Drive/Dogvision/train/0f2fbcae9ec83165d1ce5f5783fcb903.jpg',\n",
              " 'drive/My Drive/Dogvision/train/0f3416f29133c2df1b00be4448dc4473.jpg',\n",
              " 'drive/My Drive/Dogvision/train/0f378abee01a23bc9e651753300a9a36.jpg',\n",
              " 'drive/My Drive/Dogvision/train/0f46feccc1e3e8729fb680a72debb29c.jpg',\n",
              " 'drive/My Drive/Dogvision/train/0f5dd4999e44100d74f68c789f3edc54.jpg',\n",
              " 'drive/My Drive/Dogvision/train/0f6d2d6c124fb61ba7c59ef8dbd42c99.jpg',\n",
              " 'drive/My Drive/Dogvision/train/0f73c1cc99dd8b9c580c4260debf1f93.jpg',\n",
              " 'drive/My Drive/Dogvision/train/0f74df5d1c925541eb1b3031a82a5cb8.jpg',\n",
              " 'drive/My Drive/Dogvision/train/0f7c32eb17dce55860772c983f557e3c.jpg',\n",
              " 'drive/My Drive/Dogvision/train/0f7c817dd5f8b8d6b57e3b7f3e2f4f56.jpg',\n",
              " 'drive/My Drive/Dogvision/train/0f7db98cbd6f6537c0ac3dfad349b182.jpg',\n",
              " 'drive/My Drive/Dogvision/train/0f8e8464cfa3bacc074d6e0289d6657f.jpg',\n",
              " 'drive/My Drive/Dogvision/train/0f91ba06bfea7401f59c6d796717029d.jpg',\n",
              " 'drive/My Drive/Dogvision/train/0f91c68e2088b8d45950cdde991f37d1.jpg',\n",
              " 'drive/My Drive/Dogvision/train/0f976e55b3634296183b2b1c051d5bda.jpg',\n",
              " 'drive/My Drive/Dogvision/train/0f9a30195723e9951f65ac1246e5deac.jpg',\n",
              " 'drive/My Drive/Dogvision/train/0f9d92617b85252200cf99ef0f84d59d.jpg',\n",
              " 'drive/My Drive/Dogvision/train/0fa302727af44e7ad8033825cea98d7c.jpg',\n",
              " 'drive/My Drive/Dogvision/train/0fa361cea0655e945970cd4762355ac0.jpg',\n",
              " 'drive/My Drive/Dogvision/train/0fa7d7d2e948948c67919565a380ad45.jpg',\n",
              " 'drive/My Drive/Dogvision/train/0fb1454104deee316f52244bb2037b37.jpg',\n",
              " 'drive/My Drive/Dogvision/train/0fbacbbdb4ad588598757b6d4bd111f1.jpg',\n",
              " 'drive/My Drive/Dogvision/train/0fbfe941d913c3976a13cc4925e67389.jpg',\n",
              " 'drive/My Drive/Dogvision/train/0fc12a365adfcbb603e298b10149632a.jpg',\n",
              " 'drive/My Drive/Dogvision/train/0fc1bd3c4d89b3f89dc91605032fa8f9.jpg',\n",
              " 'drive/My Drive/Dogvision/train/0fc4930f411a11df34283f349d891654.jpg',\n",
              " 'drive/My Drive/Dogvision/train/0fc6556b7504fc473d8bdaa0a555a4de.jpg',\n",
              " 'drive/My Drive/Dogvision/train/0fcaccf71de140cfbc77c793e6a485bd.jpg',\n",
              " 'drive/My Drive/Dogvision/train/0fd8e587dd02713551fc1fb0c8841c49.jpg',\n",
              " 'drive/My Drive/Dogvision/train/0fded83899cc06dc30c1bda6302b5bd6.jpg',\n",
              " 'drive/My Drive/Dogvision/train/0fdfc060cdbaf30f356ffb4946df4580.jpg',\n",
              " 'drive/My Drive/Dogvision/train/0fe613c90931a021ad3716dcb9a5f270.jpg',\n",
              " 'drive/My Drive/Dogvision/train/0fee7eb61d52b589414845803d73f2f9.jpg',\n",
              " 'drive/My Drive/Dogvision/train/0ff07d44f992eec7f0b5452875255c80.jpg',\n",
              " 'drive/My Drive/Dogvision/train/1006967db8c3d015cb0d272c4ae623a5.jpg',\n",
              " 'drive/My Drive/Dogvision/train/100965db7a00c9752519e342ce9baf99.jpg',\n",
              " 'drive/My Drive/Dogvision/train/100f347ec78a42a9e7c2418e4beb3f6a.jpg',\n",
              " 'drive/My Drive/Dogvision/train/1012fef5c11e2875d2268c93253108ff.jpg',\n",
              " 'drive/My Drive/Dogvision/train/1015e4eba660def32e7e52b89fe3a9c6.jpg',\n",
              " 'drive/My Drive/Dogvision/train/101c7d1a68a7282bbc5a1a226d81cd74.jpg',\n",
              " 'drive/My Drive/Dogvision/train/1026e954ac304be5f049e79ee6a045c0.jpg',\n",
              " 'drive/My Drive/Dogvision/train/102b81ed975bfa49e496526720e9b671.jpg',\n",
              " 'drive/My Drive/Dogvision/train/102fe645c59f482cbc771c01cfff3ff9.jpg',\n",
              " 'drive/My Drive/Dogvision/train/103e4b4c0ebb0e8dabe6d47970fb546b.jpg',\n",
              " 'drive/My Drive/Dogvision/train/1041e0480ed0b88c41169fb2b119fcf7.jpg',\n",
              " 'drive/My Drive/Dogvision/train/1043003fb33c5fa1d094cde3c0dd1fd5.jpg',\n",
              " 'drive/My Drive/Dogvision/train/104a6182cff3f37406fb77b7f0c40402.jpg',\n",
              " 'drive/My Drive/Dogvision/train/104f3118ce7eba3e48138ccaa201f25a.jpg',\n",
              " 'drive/My Drive/Dogvision/train/1066d43c5f952120ec355bb56459228a.jpg',\n",
              " 'drive/My Drive/Dogvision/train/1069587e556525ecf7b3c6def3c096d7.jpg',\n",
              " 'drive/My Drive/Dogvision/train/106a740e7e34d80e35b0f40a3d96fc1b.jpg',\n",
              " 'drive/My Drive/Dogvision/train/106d7e0df869e7ba9f6d16c5f77ddfb8.jpg',\n",
              " 'drive/My Drive/Dogvision/train/10706a4ccdd719191686b98d4dc48ed0.jpg',\n",
              " 'drive/My Drive/Dogvision/train/10730dfd280bb4b2723dc677378f2ff1.jpg',\n",
              " 'drive/My Drive/Dogvision/train/1081c1b755f05b219275afd0989c6748.jpg',\n",
              " 'drive/My Drive/Dogvision/train/1083fffa8c174aa1a46627f53e1e50f8.jpg',\n",
              " 'drive/My Drive/Dogvision/train/1089c1e5058ffff12e1cca2e85205ed8.jpg',\n",
              " 'drive/My Drive/Dogvision/train/1095f3f511b5d85db6e614fc6cf58250.jpg',\n",
              " 'drive/My Drive/Dogvision/train/109bfcf2de8f0b7eb5f7768a51ebd565.jpg',\n",
              " 'drive/My Drive/Dogvision/train/10a59be0ffb5e269849d409d05b1e94c.jpg',\n",
              " 'drive/My Drive/Dogvision/train/10b7de79c1ce32cb8928616b00c3686e.jpg',\n",
              " 'drive/My Drive/Dogvision/train/10c132cf556fc31a60c0f07e0d416a6c.jpg',\n",
              " 'drive/My Drive/Dogvision/train/10c2616bf8e750b282cea404d01a3429.jpg',\n",
              " 'drive/My Drive/Dogvision/train/10c9288e30af850676d34c18fb7c1632.jpg',\n",
              " 'drive/My Drive/Dogvision/train/10c9ac7d54eaf2a4ed12883125afa4e2.jpg',\n",
              " 'drive/My Drive/Dogvision/train/10ce268c0affd428a49ada5a79fe9ca8.jpg',\n",
              " 'drive/My Drive/Dogvision/train/10d766340a5c0038f2b0529a63ecf2ba.jpg',\n",
              " 'drive/My Drive/Dogvision/train/10e2fcf8d3292866bc93d1048cec7962.jpg',\n",
              " 'drive/My Drive/Dogvision/train/10ebf7599dd41ded00fd74bdfeada500.jpg',\n",
              " 'drive/My Drive/Dogvision/train/10edc6f98c2423e4e195e09a86b0d292.jpg',\n",
              " 'drive/My Drive/Dogvision/train/10f1d53bb20d5acc7c8772018399c238.jpg',\n",
              " 'drive/My Drive/Dogvision/train/10f7757fdc673e159e47ea20834ba551.jpg',\n",
              " 'drive/My Drive/Dogvision/train/10f790eb0fe5653c1980ddd983ec79c4.jpg',\n",
              " 'drive/My Drive/Dogvision/train/1108e48ce3e2d7d7fb527ae6e40ab486.jpg',\n",
              " 'drive/My Drive/Dogvision/train/1116f9aa5db9ee09090115d09f327093.jpg',\n",
              " 'drive/My Drive/Dogvision/train/112b85d8e95da86fdf51031caea20d5e.jpg',\n",
              " 'drive/My Drive/Dogvision/train/1132baf0ad2beef88c9d78c8ee21778c.jpg',\n",
              " 'drive/My Drive/Dogvision/train/113c17f9199d16d1a9a1b16e3740ef78.jpg',\n",
              " 'drive/My Drive/Dogvision/train/113ef2bb9e14d89f927314f73d573313.jpg',\n",
              " 'drive/My Drive/Dogvision/train/1143bb719660680ac0174ce68dc16773.jpg',\n",
              " 'drive/My Drive/Dogvision/train/114524d11fe49af5be43897233a4f65e.jpg',\n",
              " 'drive/My Drive/Dogvision/train/11476f28c0143a77c536b597a177abc9.jpg',\n",
              " 'drive/My Drive/Dogvision/train/114a27c91c2ecc5818688abd63461c94.jpg',\n",
              " 'drive/My Drive/Dogvision/train/1158819241bb6eee2c1ff790a885ecf3.jpg',\n",
              " 'drive/My Drive/Dogvision/train/115ad26b0cef153d2afaf6985503c9c3.jpg',\n",
              " 'drive/My Drive/Dogvision/train/1165dd8264b3998810065ab9e3cecb3b.jpg',\n",
              " 'drive/My Drive/Dogvision/train/117085659f91228627caf21a574f2bbf.jpg',\n",
              " 'drive/My Drive/Dogvision/train/11722136645ee54db58a0df76eae2179.jpg',\n",
              " 'drive/My Drive/Dogvision/train/11730ea41395edaaa3a80d757c7dd1c2.jpg',\n",
              " 'drive/My Drive/Dogvision/train/1177d2702335c889d4c1456e45e3d2ef.jpg',\n",
              " 'drive/My Drive/Dogvision/train/118060ca946af5cfd1b3bbe030f9003c.jpg',\n",
              " 'drive/My Drive/Dogvision/train/118089e60763cbdba239cac747a54a6e.jpg',\n",
              " 'drive/My Drive/Dogvision/train/118902ec1a74243e96f818e9c5a8ea50.jpg',\n",
              " 'drive/My Drive/Dogvision/train/1195f58740671fa1d73c91f39031e417.jpg',\n",
              " 'drive/My Drive/Dogvision/train/119c85c592c1a60030abe35a6b49fa57.jpg',\n",
              " 'drive/My Drive/Dogvision/train/11a508588bc3dec81bd4ce4913f963cd.jpg',\n",
              " 'drive/My Drive/Dogvision/train/11a7275abdc2e78ff72c59e59189d1eb.jpg',\n",
              " 'drive/My Drive/Dogvision/train/11b60d8d86f14a601ca290909a17cbc6.jpg',\n",
              " 'drive/My Drive/Dogvision/train/11bbd6229f14cc68bd0f157a9ef1d47d.jpg',\n",
              " 'drive/My Drive/Dogvision/train/11c0aaa58a419a61513b5c1f27b67f16.jpg',\n",
              " 'drive/My Drive/Dogvision/train/11c3b389906a9302def1e873c9f9b6c9.jpg',\n",
              " 'drive/My Drive/Dogvision/train/11d669406a273858a123d1d1c87354c9.jpg',\n",
              " 'drive/My Drive/Dogvision/train/11da2a7ad0326cbf4b46da32b1b82bc6.jpg',\n",
              " 'drive/My Drive/Dogvision/train/11de51e128d743d0d40dd8ce3b4fdb92.jpg',\n",
              " 'drive/My Drive/Dogvision/train/11e29ec9659995ebdc80f8d812dedaa8.jpg',\n",
              " 'drive/My Drive/Dogvision/train/11e572c36d23d362ff987d7f8828dd45.jpg',\n",
              " 'drive/My Drive/Dogvision/train/11f1e40f11ca1babbcc547c5c98a1a3c.jpg',\n",
              " 'drive/My Drive/Dogvision/train/11f968569f31c60b73a6d50b907f800f.jpg',\n",
              " 'drive/My Drive/Dogvision/train/12078d0ea135483e4bc48e2f13678588.jpg',\n",
              " 'drive/My Drive/Dogvision/train/120c338a78b113785c31e4ebf11d229e.jpg',\n",
              " 'drive/My Drive/Dogvision/train/120e665f7fa566a429d27ad920fc34da.jpg',\n",
              " 'drive/My Drive/Dogvision/train/122abc906f3215996cbcccf63c8fc89c.jpg',\n",
              " 'drive/My Drive/Dogvision/train/1234dd4303d5181574ca007f53ed03db.jpg',\n",
              " 'drive/My Drive/Dogvision/train/123c19c8d168e7704273cb7174351821.jpg',\n",
              " 'drive/My Drive/Dogvision/train/123ffeb6b374097856bffdd11b693668.jpg',\n",
              " 'drive/My Drive/Dogvision/train/12405b2e93417d81f5308769c4e184c7.jpg',\n",
              " 'drive/My Drive/Dogvision/train/1241cd8dc2ee02844a420b6d0afbc97e.jpg',\n",
              " 'drive/My Drive/Dogvision/train/1242d1521d58b7cc6dd03d95a02c8bcb.jpg',\n",
              " 'drive/My Drive/Dogvision/train/1242da788ce85d4311e1cc9922a0a809.jpg',\n",
              " 'drive/My Drive/Dogvision/train/1257cafca085d403a583378d525953d5.jpg',\n",
              " 'drive/My Drive/Dogvision/train/12590e7d21b4e221217c7fc8fa67a800.jpg',\n",
              " 'drive/My Drive/Dogvision/train/1268223049f00d74f20d4f2af3126234.jpg',\n",
              " 'drive/My Drive/Dogvision/train/1278143f78dc063c1e29970bf3eb32a2.jpg',\n",
              " 'drive/My Drive/Dogvision/train/12815630b892efa2744926fe59382491.jpg',\n",
              " 'drive/My Drive/Dogvision/train/129cff4506469af7863a6e30c9947a66.jpg',\n",
              " 'drive/My Drive/Dogvision/train/12a2e809d7f15298050f3798c018c395.jpg',\n",
              " 'drive/My Drive/Dogvision/train/12a96a9c366b60dcc62fec29006780a3.jpg',\n",
              " 'drive/My Drive/Dogvision/train/12a9f1c02202a020fe9e51fc46dc780f.jpg',\n",
              " 'drive/My Drive/Dogvision/train/12b5c6e825ea11850e23f233a54981f3.jpg',\n",
              " 'drive/My Drive/Dogvision/train/12b72be0bcd7a96172fee4f7cd5b01fd.jpg',\n",
              " 'drive/My Drive/Dogvision/train/12b839068a6c29541797fa9bd20f350c.jpg',\n",
              " 'drive/My Drive/Dogvision/train/12b880c67ff773988a16cee76be47c54.jpg',\n",
              " 'drive/My Drive/Dogvision/train/12bd4b1926c160fcd73ae48215e2b12d.jpg',\n",
              " 'drive/My Drive/Dogvision/train/12c222ec2e7808183056af545a4bc046.jpg',\n",
              " 'drive/My Drive/Dogvision/train/12c65c69fa9e112448f7d26ed34abb57.jpg',\n",
              " 'drive/My Drive/Dogvision/train/12c9f56e73ac9f4a08afb142f89051ae.jpg',\n",
              " 'drive/My Drive/Dogvision/train/12d1b8763a1b74c7e40c65b005f91ea9.jpg',\n",
              " 'drive/My Drive/Dogvision/train/12db63491c6590c8ef38dc1824aa4b81.jpg',\n",
              " 'drive/My Drive/Dogvision/train/12de62fb1fa5a48d596428dd5a90184a.jpg',\n",
              " 'drive/My Drive/Dogvision/train/12dfab0ecfdd9475b561febf2533513a.jpg',\n",
              " 'drive/My Drive/Dogvision/train/12e15979a85e881613f8f2cf49de08be.jpg',\n",
              " 'drive/My Drive/Dogvision/train/12eb341a614941c33777c708d43a042f.jpg',\n",
              " 'drive/My Drive/Dogvision/train/12f4a7e00a5a4fc215f6e0c3fda079c3.jpg',\n",
              " 'drive/My Drive/Dogvision/train/12fbfefaae57137c745f16b0cf11b84d.jpg',\n",
              " 'drive/My Drive/Dogvision/train/12fe7ed6bd250509b131d245551b06f6.jpg',\n",
              " 'drive/My Drive/Dogvision/train/1301d1dd2763e028cf70d0da4c1bab7b.jpg',\n",
              " 'drive/My Drive/Dogvision/train/1304760775c1aff0f21c311bd48f9580.jpg',\n",
              " 'drive/My Drive/Dogvision/train/1312009d41a9488bf5dc0af0289b0657.jpg',\n",
              " 'drive/My Drive/Dogvision/train/1312d2ca6f4bfd594624f7161be73ee7.jpg',\n",
              " 'drive/My Drive/Dogvision/train/131c49315a5bc73880b305a844bf531a.jpg',\n",
              " 'drive/My Drive/Dogvision/train/131ccf48aba2dc53174c170b2429e55b.jpg',\n",
              " 'drive/My Drive/Dogvision/train/131d708a270a3ebca285978bf53df62e.jpg',\n",
              " 'drive/My Drive/Dogvision/train/1321d074e879267699d42fdca77b4004.jpg',\n",
              " 'drive/My Drive/Dogvision/train/132538caad57960ca3c9162e2f4a8498.jpg',\n",
              " 'drive/My Drive/Dogvision/train/13267e83358116ad51bebdb1be3d0a8e.jpg',\n",
              " 'drive/My Drive/Dogvision/train/1351c4f7cec88e8ba56ada4c772d84f5.jpg',\n",
              " 'drive/My Drive/Dogvision/train/1352efb02c29ba1b9be918170afff486.jpg',\n",
              " 'drive/My Drive/Dogvision/train/135587061f51e7dabb820bbbd619977a.jpg',\n",
              " 'drive/My Drive/Dogvision/train/1369c16ecf370cee5e4a306eebe5656e.jpg',\n",
              " 'drive/My Drive/Dogvision/train/136b8208ffd0262ea1aa6f8c17265ff7.jpg',\n",
              " 'drive/My Drive/Dogvision/train/136e0fc1f67b72037c0e60faff6061f2.jpg',\n",
              " 'drive/My Drive/Dogvision/train/137f07bc5f15fa8e39f85a8333e68780.jpg',\n",
              " 'drive/My Drive/Dogvision/train/1381239a87d5a97caab8d0cf72a06e75.jpg',\n",
              " 'drive/My Drive/Dogvision/train/1381df385b4c5da43539ab48633bd9b5.jpg',\n",
              " 'drive/My Drive/Dogvision/train/1383bc8b2db4943fafe13b7f289f4a03.jpg',\n",
              " 'drive/My Drive/Dogvision/train/13863e32053e9735b55ba975ecd58cfd.jpg',\n",
              " 'drive/My Drive/Dogvision/train/1392df2ceab56cdf380813987c7c9ba5.jpg',\n",
              " 'drive/My Drive/Dogvision/train/13932827f30cb00d0cb4c40443c788f4.jpg',\n",
              " 'drive/My Drive/Dogvision/train/1399f1e08abd77f1b736303d4101d51c.jpg',\n",
              " 'drive/My Drive/Dogvision/train/139b8328a97a600cceb73b0875f80a98.jpg',\n",
              " 'drive/My Drive/Dogvision/train/139e8120addf833f72a8dc2c12ad4c8a.jpg',\n",
              " 'drive/My Drive/Dogvision/train/139fc3326016bf24cc06ad898c42742e.jpg',\n",
              " 'drive/My Drive/Dogvision/train/13b1ca09a561661a8c1a506d49b8dd83.jpg',\n",
              " 'drive/My Drive/Dogvision/train/13b5f36cb39cb5123958c6e4fbfd5399.jpg',\n",
              " 'drive/My Drive/Dogvision/train/13c5a0d636619210b5ac003ee82aacf0.jpg',\n",
              " 'drive/My Drive/Dogvision/train/13c630fcf8aa68ab0e97cd4a644b8943.jpg',\n",
              " 'drive/My Drive/Dogvision/train/13c7c6b47b97b9f0a4591fef29893436.jpg',\n",
              " 'drive/My Drive/Dogvision/train/13cab1309bdaf21aa17cf71fd6f88a65.jpg',\n",
              " 'drive/My Drive/Dogvision/train/13d42ef52eb6c649c14cb9ffa8b6fba4.jpg',\n",
              " 'drive/My Drive/Dogvision/train/13d470408dbbdc20b38ea32d3752edbb.jpg',\n",
              " 'drive/My Drive/Dogvision/train/13e2d0cb1fa62d3085be6877bd7e85cb.jpg',\n",
              " 'drive/My Drive/Dogvision/train/13e608df9c88b1465ebf98bc84d0a832.jpg',\n",
              " 'drive/My Drive/Dogvision/train/13ea49cd2b706ec9a15e7214e492bbb2.jpg',\n",
              " 'drive/My Drive/Dogvision/train/13ee74fa50b3e32356047fde4fd993ab.jpg',\n",
              " 'drive/My Drive/Dogvision/train/13f6cb46cb23d6eb41fa6931b73b3e4c.jpg',\n",
              " 'drive/My Drive/Dogvision/train/13f765ea64c7a3575a105cbdfbb6c31f.jpg',\n",
              " 'drive/My Drive/Dogvision/train/13f939b9b15ec56409a21017263db93c.jpg',\n",
              " 'drive/My Drive/Dogvision/train/13fc4571a3c549715a357d22fd16eabb.jpg',\n",
              " 'drive/My Drive/Dogvision/train/13feb3feb14fe8aa91f70411bc1b10e9.jpg',\n",
              " 'drive/My Drive/Dogvision/train/14095922a772c94921a065006a9fa454.jpg',\n",
              " 'drive/My Drive/Dogvision/train/1411967eaa020b15874e03167eceea62.jpg',\n",
              " 'drive/My Drive/Dogvision/train/141321373d0535ee37171a2d6ca9bcbb.jpg',\n",
              " 'drive/My Drive/Dogvision/train/14158fdadb6a3accea6b334d0f284092.jpg',\n",
              " 'drive/My Drive/Dogvision/train/1416047ba98d2c23eb2caf45d3008ccb.jpg',\n",
              " 'drive/My Drive/Dogvision/train/1416892831c073f6d3879d8cdf5386dd.jpg',\n",
              " 'drive/My Drive/Dogvision/train/141706c74486585c27de2dfb335695bb.jpg',\n",
              " 'drive/My Drive/Dogvision/train/1418b4cd78095ff2635ef02684a026b7.jpg',\n",
              " 'drive/My Drive/Dogvision/train/1428026a4472cda58ad13233bb9ad64d.jpg',\n",
              " 'drive/My Drive/Dogvision/train/142ef9990b3db0d521f87f9133a6b84f.jpg',\n",
              " 'drive/My Drive/Dogvision/train/1435300899e9180c90de6e100643b402.jpg',\n",
              " 'drive/My Drive/Dogvision/train/1438130db8837b0e5fdb8416e53353ec.jpg',\n",
              " 'drive/My Drive/Dogvision/train/1438ea6672622b5867ce2fbcebe6c552.jpg',\n",
              " 'drive/My Drive/Dogvision/train/143b9484273e57668d03bfc26755810a.jpg',\n",
              " 'drive/My Drive/Dogvision/train/143ce5343024462044b72de531b5ff08.jpg',\n",
              " 'drive/My Drive/Dogvision/train/143d5305a4055398828d5b7e3aa8f75b.jpg',\n",
              " 'drive/My Drive/Dogvision/train/14597c96d5c222eebd742f4207296314.jpg',\n",
              " 'drive/My Drive/Dogvision/train/145ec132c2a1cc4291bd774c7f78c871.jpg',\n",
              " 'drive/My Drive/Dogvision/train/145f7bb3bf6e4877b8b6624f612a1c24.jpg',\n",
              " 'drive/My Drive/Dogvision/train/1465759436b4acd2748dd50108b90ca9.jpg',\n",
              " 'drive/My Drive/Dogvision/train/146b732430bb63d5338fc6b7a8fc0135.jpg',\n",
              " 'drive/My Drive/Dogvision/train/146be641443a270dd8116f65d53d0c9d.jpg',\n",
              " 'drive/My Drive/Dogvision/train/146c249bf2d60bf30c309341020bf2ee.jpg',\n",
              " 'drive/My Drive/Dogvision/train/146c8ed2e65ed9e04d8302bf1d96815a.jpg',\n",
              " 'drive/My Drive/Dogvision/train/146fa113f3d8ad6e0effe9719e09cef1.jpg',\n",
              " 'drive/My Drive/Dogvision/train/146fbfac6b5b1f0de83a5d0c1b473377.jpg',\n",
              " 'drive/My Drive/Dogvision/train/146fcb253fd7b73b2c9f20d91a49f400.jpg',\n",
              " 'drive/My Drive/Dogvision/train/1472fb85b5c76d50009137da3dbde052.jpg',\n",
              " 'drive/My Drive/Dogvision/train/1476da6f7fc9421c8ec3c0aba6b3e1bf.jpg',\n",
              " 'drive/My Drive/Dogvision/train/14914d7f0348c56b32a779596c11ecd6.jpg',\n",
              " 'drive/My Drive/Dogvision/train/14918e76fc079738923ea5ab8d12b4ee.jpg',\n",
              " 'drive/My Drive/Dogvision/train/1493bf7f5cb1ca62b4e0772d9edc702e.jpg',\n",
              " 'drive/My Drive/Dogvision/train/14a24af1ce8c796dc96bb45dea1fb8dc.jpg',\n",
              " 'drive/My Drive/Dogvision/train/14a2795a5c3d69a5c18a63aad8718003.jpg',\n",
              " 'drive/My Drive/Dogvision/train/14a44cf4253e82340f83293e3920af11.jpg',\n",
              " 'drive/My Drive/Dogvision/train/14acf981af889d9b97d1d46a439228b0.jpg',\n",
              " 'drive/My Drive/Dogvision/train/14b1b3f0d45a15766dc02dc84899b07a.jpg',\n",
              " 'drive/My Drive/Dogvision/train/14b27fd74697cf699143ade2d4f801fc.jpg',\n",
              " 'drive/My Drive/Dogvision/train/14b6f4f65cf579f4a402b310be78b8ff.jpg',\n",
              " 'drive/My Drive/Dogvision/train/14babec7fedcfcfe575947797e2e01bd.jpg',\n",
              " 'drive/My Drive/Dogvision/train/14c00ab356d9261ea220ea91fa20a42d.jpg',\n",
              " 'drive/My Drive/Dogvision/train/14c8f5fc68ca8fb6b33a0082849b15ad.jpg',\n",
              " 'drive/My Drive/Dogvision/train/14cbd6c6c6550fa1306c8d4f7cf1a840.jpg',\n",
              " 'drive/My Drive/Dogvision/train/14cd98829e4e99e950af3cbf94ad1734.jpg',\n",
              " 'drive/My Drive/Dogvision/train/14cffe576239620f1733dfe487dbaa6f.jpg',\n",
              " 'drive/My Drive/Dogvision/train/14d2892358ea21837f7a9399c0b00acb.jpg',\n",
              " 'drive/My Drive/Dogvision/train/14dee67f611c52183fda5fc07db5d5fb.jpg',\n",
              " 'drive/My Drive/Dogvision/train/14e8bc7e0eaf52be607e0a654922a826.jpg',\n",
              " 'drive/My Drive/Dogvision/train/14e9a6d002632db71a18283fc024f086.jpg',\n",
              " 'drive/My Drive/Dogvision/train/14f25ad78f02126a1ceeb44385378cd1.jpg',\n",
              " 'drive/My Drive/Dogvision/train/14f4938d64e0da5582a4ced35cf33a6b.jpg',\n",
              " 'drive/My Drive/Dogvision/train/150a95102a32d2f099b02a445442310b.jpg',\n",
              " 'drive/My Drive/Dogvision/train/15137b6e02d5cd04cabb34aba1fabb9f.jpg',\n",
              " 'drive/My Drive/Dogvision/train/151474b992b295f69547839e31271dd0.jpg',\n",
              " 'drive/My Drive/Dogvision/train/15190d69d724d7e94ef64a347b959ccb.jpg',\n",
              " 'drive/My Drive/Dogvision/train/151f312fa21196af9b53b0e77baa3a06.jpg',\n",
              " 'drive/My Drive/Dogvision/train/152006ba4c78c907b2fc376a3336ae09.jpg',\n",
              " 'drive/My Drive/Dogvision/train/152aa0851b6a1349b99044f16eadc59d.jpg',\n",
              " 'drive/My Drive/Dogvision/train/152c0d164f42991d55d84dc30a1fa81f.jpg',\n",
              " 'drive/My Drive/Dogvision/train/15305c67da0838b92b90c66526cef5aa.jpg',\n",
              " 'drive/My Drive/Dogvision/train/1534c4b9f44f10bfb3e6e0ff32d08a9a.jpg',\n",
              " 'drive/My Drive/Dogvision/train/153697b802875722cb25421a661a4526.jpg',\n",
              " 'drive/My Drive/Dogvision/train/153bbd70025d2738418176e6ab7fedd0.jpg',\n",
              " 'drive/My Drive/Dogvision/train/153f05ef64f050530ea746a357855b20.jpg',\n",
              " 'drive/My Drive/Dogvision/train/153f0c739e9049612a62f111b9519429.jpg',\n",
              " 'drive/My Drive/Dogvision/train/1548eb783093ac6bdf011d07f3370a36.jpg',\n",
              " 'drive/My Drive/Dogvision/train/155052199dfac47b3a1ccbea97ce648c.jpg',\n",
              " 'drive/My Drive/Dogvision/train/1553cf296f4d83f015a07afde78fd747.jpg',\n",
              " 'drive/My Drive/Dogvision/train/156a5ab6d4cfe64e10f38af83f21a30a.jpg',\n",
              " 'drive/My Drive/Dogvision/train/156d6d6ef7da47aa22b150268af9a3c4.jpg',\n",
              " 'drive/My Drive/Dogvision/train/156e74a393c76b215752d692eccd9135.jpg',\n",
              " 'drive/My Drive/Dogvision/train/1574f04538521f284218dfbf2c8678ee.jpg',\n",
              " 'drive/My Drive/Dogvision/train/157e9d7fb607da0ff1d324933b9cbddf.jpg',\n",
              " 'drive/My Drive/Dogvision/train/158274c7a5b030a2e8462a55159bdfc4.jpg',\n",
              " 'drive/My Drive/Dogvision/train/1586326d52312228c20c3599feb72d7a.jpg',\n",
              " 'drive/My Drive/Dogvision/train/1596cf0ab964b3ff0587f0d30042ca18.jpg',\n",
              " 'drive/My Drive/Dogvision/train/159d07f089673cd225f3a47d08ee772f.jpg',\n",
              " 'drive/My Drive/Dogvision/train/159d8e089f2ce2a38580a02318fd9ecb.jpg',\n",
              " 'drive/My Drive/Dogvision/train/15a4ad475f9c8b2250df082b8e741d94.jpg',\n",
              " 'drive/My Drive/Dogvision/train/15ad574a13084df42ef17a5f635fae3c.jpg',\n",
              " 'drive/My Drive/Dogvision/train/15aee288781e5c11d1f9a6983326ad9c.jpg',\n",
              " 'drive/My Drive/Dogvision/train/15b5949f52a4838f9fe3d69cfff94fd5.jpg',\n",
              " 'drive/My Drive/Dogvision/train/15b5cd948f5bcbb7a4f5b1904de4c6d5.jpg',\n",
              " 'drive/My Drive/Dogvision/train/15d17b41ac5230af8f31417f0a673915.jpg',\n",
              " 'drive/My Drive/Dogvision/train/15d25fb9d0b922b4943b312509e95c21.jpg',\n",
              " 'drive/My Drive/Dogvision/train/15d7f26c7d32f81c204936362ead551e.jpg',\n",
              " 'drive/My Drive/Dogvision/train/15e9e5a6a6f3630335261259940114b4.jpg',\n",
              " 'drive/My Drive/Dogvision/train/15f8b879f8660fece35ed760345fa9dd.jpg',\n",
              " 'drive/My Drive/Dogvision/train/160160c8ac562966448486906cb56308.jpg',\n",
              " 'drive/My Drive/Dogvision/train/16052ac2a6ff7f1fbbc85885d2a7c467.jpg',\n",
              " 'drive/My Drive/Dogvision/train/1609abf6c6ac2e8df0af837cbe9cee74.jpg',\n",
              " 'drive/My Drive/Dogvision/train/160f87a50f4c3c80752872faa80e4699.jpg',\n",
              " 'drive/My Drive/Dogvision/train/160f932c413228553024d4cc9bafc156.jpg',\n",
              " 'drive/My Drive/Dogvision/train/16265434d841173019be215bea5d8097.jpg',\n",
              " 'drive/My Drive/Dogvision/train/162a3de12cc110679a921dc49dd38fc8.jpg',\n",
              " 'drive/My Drive/Dogvision/train/1634d504adfb4efb6b14e891e8996585.jpg',\n",
              " 'drive/My Drive/Dogvision/train/1639ccef237eec9fc4eb1aa0916201c3.jpg',\n",
              " 'drive/My Drive/Dogvision/train/164533d27e5827842f28f100196bfe7d.jpg',\n",
              " 'drive/My Drive/Dogvision/train/164a194e9bf8819523235879eb0c2698.jpg',\n",
              " 'drive/My Drive/Dogvision/train/164c3b823c400cea20ad0a3426e1eeea.jpg',\n",
              " 'drive/My Drive/Dogvision/train/165f26ae3d9dfe88e10f7929c031b1c8.jpg',\n",
              " 'drive/My Drive/Dogvision/train/166d9a55197d0c21068273cca67fe2aa.jpg',\n",
              " 'drive/My Drive/Dogvision/train/166da5b561393f0dda932f562c39bc6b.jpg',\n",
              " 'drive/My Drive/Dogvision/train/1674e551b6e45cdc27a3014ffb83f374.jpg',\n",
              " 'drive/My Drive/Dogvision/train/168e2da635938b82819b8a45bbd3dd0d.jpg',\n",
              " 'drive/My Drive/Dogvision/train/1690522901e3d41a84c3dc91b1520902.jpg',\n",
              " 'drive/My Drive/Dogvision/train/1690937cfb23f8dbdcc594bf62650a92.jpg',\n",
              " 'drive/My Drive/Dogvision/train/16941a6728ddb9cb7423a6cc97fbe071.jpg',\n",
              " 'drive/My Drive/Dogvision/train/1699a179453b177a5e895c5b5ecb3624.jpg',\n",
              " 'drive/My Drive/Dogvision/train/169db2d825a1bdeb5a576ab746812936.jpg',\n",
              " 'drive/My Drive/Dogvision/train/16a2425b83d397180e11ec5cb2c4b44f.jpg',\n",
              " 'drive/My Drive/Dogvision/train/16a6a63387fa1f0b4a0dcf6bb05f6204.jpg',\n",
              " 'drive/My Drive/Dogvision/train/16a760e466fd2b2fe0ef8879b5b2245d.jpg',\n",
              " 'drive/My Drive/Dogvision/train/16aaa590e39530bc1cb319fc7d89c00e.jpg',\n",
              " 'drive/My Drive/Dogvision/train/16ac25747d1a51db033d6461156ddb0b.jpg',\n",
              " 'drive/My Drive/Dogvision/train/16acaa39e4fe4edbc2becbeb85e8ccbe.jpg',\n",
              " 'drive/My Drive/Dogvision/train/16b17dfce7906f0e7a599a538c7ac106.jpg',\n",
              " 'drive/My Drive/Dogvision/train/16ca736a6ff68bc4d2d1586e8eec9b28.jpg',\n",
              " 'drive/My Drive/Dogvision/train/16cc38641158115b57a4610e40e5f6a9.jpg',\n",
              " 'drive/My Drive/Dogvision/train/16d21426a864e73050afda40bf1fddc6.jpg',\n",
              " 'drive/My Drive/Dogvision/train/16d2d5edf52892450e38aa4f766c2eea.jpg',\n",
              " 'drive/My Drive/Dogvision/train/16d9e14772868ce890909983e53af8d7.jpg',\n",
              " 'drive/My Drive/Dogvision/train/16da5fc3f2c4273902da11aafc13456e.jpg',\n",
              " 'drive/My Drive/Dogvision/train/16df5020c2b6ac3f70fb3a5c27c5175e.jpg',\n",
              " 'drive/My Drive/Dogvision/train/16e2c529e31eb3d2a276eb5bda2b009f.jpg',\n",
              " 'drive/My Drive/Dogvision/train/16e68faf318a580514ec2ae7fe295ec5.jpg',\n",
              " 'drive/My Drive/Dogvision/train/16ed388064b485a047d02a147e0a5cff.jpg',\n",
              " 'drive/My Drive/Dogvision/train/16f37498dbfe77fae6d442465e7356eb.jpg',\n",
              " 'drive/My Drive/Dogvision/train/16fd2ee2057012b1d3db46e219a4d022.jpg',\n",
              " 'drive/My Drive/Dogvision/train/16fdb4a145a7f5695a264ba980e23bc3.jpg',\n",
              " 'drive/My Drive/Dogvision/train/1703c4224aace739763ae9f4e4ad7e76.jpg',\n",
              " 'drive/My Drive/Dogvision/train/170b803738598c2466457271f98f647c.jpg',\n",
              " 'drive/My Drive/Dogvision/train/170dba137a3990b225bdf19074b97023.jpg',\n",
              " 'drive/My Drive/Dogvision/train/1710f33e5a5a32fd20547e8f133fa8d9.jpg',\n",
              " 'drive/My Drive/Dogvision/train/1716fe350f1339e19906eb2889960c9e.jpg',\n",
              " 'drive/My Drive/Dogvision/train/17193d29b9833d783133f4b13f12f513.jpg',\n",
              " 'drive/My Drive/Dogvision/train/172137d59604f06ceaa15e7c6434c592.jpg',\n",
              " 'drive/My Drive/Dogvision/train/172bb084b4d25fcfe247da525a493e57.jpg',\n",
              " 'drive/My Drive/Dogvision/train/172fcb0b8bbd67401c9e53e5f9bf39bc.jpg',\n",
              " 'drive/My Drive/Dogvision/train/17324f3d13ca421725028de23d631e03.jpg',\n",
              " 'drive/My Drive/Dogvision/train/1732acba109e3b1cf23efca0381c9a32.jpg',\n",
              " 'drive/My Drive/Dogvision/train/173493daaae8804e5a837ddfe2e21c50.jpg',\n",
              " 'drive/My Drive/Dogvision/train/173b54d60d2d75be13416af93098445c.jpg',\n",
              " 'drive/My Drive/Dogvision/train/173d5eb6a645eee683442be8101d398e.jpg',\n",
              " 'drive/My Drive/Dogvision/train/174878bb8d33d52381bb3eb36dd1974a.jpg',\n",
              " 'drive/My Drive/Dogvision/train/174c68c77ca368337e9fc35112d7b842.jpg',\n",
              " 'drive/My Drive/Dogvision/train/1758bbaf1dba23fd418911be2a2becc2.jpg',\n",
              " 'drive/My Drive/Dogvision/train/176e2a6cde976022e90b2b42a81297fb.jpg',\n",
              " 'drive/My Drive/Dogvision/train/1771e3fccad9cbb33077d779fbe22e4f.jpg',\n",
              " 'drive/My Drive/Dogvision/train/17738f5f90c73ed152991b28ea4d77ed.jpg',\n",
              " 'drive/My Drive/Dogvision/train/179bdadf902bf8447e9eebbe63553d24.jpg',\n",
              " 'drive/My Drive/Dogvision/train/17a2b04e47d6873a13d999bd605d0427.jpg',\n",
              " 'drive/My Drive/Dogvision/train/17a64c7a240d8c3b208eb371297189a6.jpg',\n",
              " 'drive/My Drive/Dogvision/train/17a79093473687e2cb3d0cc29c24f3e8.jpg',\n",
              " 'drive/My Drive/Dogvision/train/17b6be0ff31a2b1e417f6a03cd3ba32e.jpg',\n",
              " 'drive/My Drive/Dogvision/train/17c25d583276276876ecf58c011aff88.jpg',\n",
              " 'drive/My Drive/Dogvision/train/17c3f951feca0716c023ea462428dc14.jpg',\n",
              " 'drive/My Drive/Dogvision/train/17c5e8815cf0d086090a07b003b9b036.jpg',\n",
              " 'drive/My Drive/Dogvision/train/17d2ef6638b31a9be935774b2b873499.jpg',\n",
              " 'drive/My Drive/Dogvision/train/17e00d79ad69729522d8705e95939f01.jpg',\n",
              " 'drive/My Drive/Dogvision/train/17e3b8acf23f7943b04dc680fc1bda0d.jpg',\n",
              " 'drive/My Drive/Dogvision/train/17e74cb24060ad496aed8ca01f611ba9.jpg',\n",
              " 'drive/My Drive/Dogvision/train/17f15b80ab3238f1fbe5961286db0eba.jpg',\n",
              " 'drive/My Drive/Dogvision/train/17f5ba5fee5bbebe781009cf8d3e1809.jpg',\n",
              " 'drive/My Drive/Dogvision/train/17f69b6a170c33a8786d566f6dc9b8d5.jpg',\n",
              " 'drive/My Drive/Dogvision/train/1804c9f9d48a34ab283e3a39006936f2.jpg',\n",
              " 'drive/My Drive/Dogvision/train/18178aae17060733ebce2cff03413a8c.jpg',\n",
              " 'drive/My Drive/Dogvision/train/18195ce24678ab4e2a3c779d7d5e4fac.jpg',\n",
              " 'drive/My Drive/Dogvision/train/181e91cb6caf6739478d06231faa053d.jpg',\n",
              " 'drive/My Drive/Dogvision/train/181fadf5f2222c0791c7a02fad19bab1.jpg',\n",
              " 'drive/My Drive/Dogvision/train/182c436dd1fbec1c5f4979077ce74659.jpg',\n",
              " 'drive/My Drive/Dogvision/train/182c9134e07c883dfdc2acfb21184810.jpg',\n",
              " 'drive/My Drive/Dogvision/train/182e24a6ba14bfc0f109687b22589f57.jpg',\n",
              " 'drive/My Drive/Dogvision/train/1831f3ce615ffe27a78c5baa362ac677.jpg',\n",
              " 'drive/My Drive/Dogvision/train/183cf5cc037ccb5079634b7bfaae0a24.jpg',\n",
              " 'drive/My Drive/Dogvision/train/184710573b8878de902c42b7929ceeb9.jpg',\n",
              " 'drive/My Drive/Dogvision/train/1852241f20c06eb5d999cd43cc92bbeb.jpg',\n",
              " 'drive/My Drive/Dogvision/train/1853938d8adf8942d927f5fae8b9ec0c.jpg',\n",
              " 'drive/My Drive/Dogvision/train/185617e5924c55cede9ecdb7a41c4707.jpg',\n",
              " 'drive/My Drive/Dogvision/train/1857ac9d2306fc646d4bb817aaa20424.jpg',\n",
              " 'drive/My Drive/Dogvision/train/185dd9ac0589562442f553cf686783d4.jpg',\n",
              " 'drive/My Drive/Dogvision/train/1866bec18870abddd279fa4b1f0e126b.jpg',\n",
              " 'drive/My Drive/Dogvision/train/187a741ca8f22a04de67b60beb12987c.jpg',\n",
              " 'drive/My Drive/Dogvision/train/187b3a867bb68860208c37aaf43d2115.jpg',\n",
              " 'drive/My Drive/Dogvision/train/187eaac78834950c66b5737394cc0f13.jpg',\n",
              " 'drive/My Drive/Dogvision/train/1880c57a7ac87a232158207581c989df.jpg',\n",
              " 'drive/My Drive/Dogvision/train/189cc11eaaa9152fffb49e4fa5b14ebd.jpg',\n",
              " 'drive/My Drive/Dogvision/train/18a44f4dc15b555f67e0e9f1b7aa0613.jpg',\n",
              " 'drive/My Drive/Dogvision/train/18aa1cff5dc0615c75dec0fcc135be3c.jpg',\n",
              " ...]"
            ]
          },
          "metadata": {
            "tags": []
          },
          "execution_count": 26
        }
      ]
    },
    {
      "cell_type": "code",
      "metadata": {
        "id": "dcA062ZwW2zJ",
        "colab_type": "code",
        "colab": {
          "base_uri": "https://localhost:8080/",
          "height": 34
        },
        "outputId": "2b2ff1fa-c17d-42c2-f978-ba5cbefa03d0"
      },
      "source": [
        "len(y)"
      ],
      "execution_count": 27,
      "outputs": [
        {
          "output_type": "execute_result",
          "data": {
            "text/plain": [
              "10222"
            ]
          },
          "metadata": {
            "tags": []
          },
          "execution_count": 27
        }
      ]
    },
    {
      "cell_type": "code",
      "metadata": {
        "id": "uSM8xAfMW3W5",
        "colab_type": "code",
        "colab": {
          "base_uri": "https://localhost:8080/",
          "height": 34
        },
        "outputId": "8b758531-0a0f-4950-adad-db43b77650a6"
      },
      "source": [
        "# Check whether number of filenames matches number of actual image files\n",
        "import os\n",
        "if len(os.listdir(\"drive/My Drive/Dogvision/train/\")) == len(file_path):\n",
        "  print(\"Filenames match actual amount of files!!! Proceed.\")\n",
        "else:\n",
        "  print(\"Filenames do no match actual amount of files, check the target directory.\")"
      ],
      "execution_count": 28,
      "outputs": [
        {
          "output_type": "stream",
          "text": [
            "Filenames match actual amount of files!!! Proceed.\n"
          ],
          "name": "stdout"
        }
      ]
    },
    {
      "cell_type": "code",
      "metadata": {
        "id": "jTVAvrYhYfJ-",
        "colab_type": "code",
        "colab": {
          "base_uri": "https://localhost:8080/",
          "height": 493
        },
        "outputId": "fb9725fd-01cd-49e8-e854-7fe1cb2377e8"
      },
      "source": [
        "# Turn every label into a boolean array\n",
        "boolean_labels = [label == unique_breeds for label in labels]\n",
        "boolean_labels[:2]"
      ],
      "execution_count": 29,
      "outputs": [
        {
          "output_type": "execute_result",
          "data": {
            "text/plain": [
              "[array([False, False, False, False, False, False, False, False, False,\n",
              "        False, False, False, False, False, False, False, False, False,\n",
              "        False,  True, False, False, False, False, False, False, False,\n",
              "        False, False, False, False, False, False, False, False, False,\n",
              "        False, False, False, False, False, False, False, False, False,\n",
              "        False, False, False, False, False, False, False, False, False,\n",
              "        False, False, False, False, False, False, False, False, False,\n",
              "        False, False, False, False, False, False, False, False, False,\n",
              "        False, False, False, False, False, False, False, False, False,\n",
              "        False, False, False, False, False, False, False, False, False,\n",
              "        False, False, False, False, False, False, False, False, False,\n",
              "        False, False, False, False, False, False, False, False, False,\n",
              "        False, False, False, False, False, False, False, False, False,\n",
              "        False, False, False]),\n",
              " array([False, False, False, False, False, False, False, False, False,\n",
              "        False, False, False, False, False, False, False, False, False,\n",
              "        False, False, False, False, False, False, False, False, False,\n",
              "        False, False, False, False, False, False, False, False, False,\n",
              "        False,  True, False, False, False, False, False, False, False,\n",
              "        False, False, False, False, False, False, False, False, False,\n",
              "        False, False, False, False, False, False, False, False, False,\n",
              "        False, False, False, False, False, False, False, False, False,\n",
              "        False, False, False, False, False, False, False, False, False,\n",
              "        False, False, False, False, False, False, False, False, False,\n",
              "        False, False, False, False, False, False, False, False, False,\n",
              "        False, False, False, False, False, False, False, False, False,\n",
              "        False, False, False, False, False, False, False, False, False,\n",
              "        False, False, False])]"
            ]
          },
          "metadata": {
            "tags": []
          },
          "execution_count": 29
        }
      ]
    },
    {
      "cell_type": "code",
      "metadata": {
        "id": "36fszU-yYO1e",
        "colab_type": "code",
        "colab": {}
      },
      "source": [
        "# Setup X & y variables\n",
        "X = file_path\n",
        "y = boolean_labels"
      ],
      "execution_count": 30,
      "outputs": []
    },
    {
      "cell_type": "code",
      "metadata": {
        "id": "QCaCv3VJZZfy",
        "colab_type": "code",
        "colab": {
          "base_uri": "https://localhost:8080/",
          "height": 34
        },
        "outputId": "72d3f02f-5daf-45aa-90fd-7b6480289f0c"
      },
      "source": [
        "len(labels)"
      ],
      "execution_count": 31,
      "outputs": [
        {
          "output_type": "execute_result",
          "data": {
            "text/plain": [
              "10222"
            ]
          },
          "metadata": {
            "tags": []
          },
          "execution_count": 31
        }
      ]
    },
    {
      "cell_type": "code",
      "metadata": {
        "id": "Bn-ZXnaLT9Bs",
        "colab_type": "code",
        "colab": {
          "base_uri": "https://localhost:8080/",
          "height": 136
        },
        "outputId": "98d50036-4377-4c41-dd9f-b8028b9d750f"
      },
      "source": [
        "print(labels[0])\n",
        "print(n.where(unique_breeds==labels[0]))\n",
        "print(boolean_labels[0].argmax()) # index where label occurs in boolean array\n",
        "print(boolean_labels[0].astype(int))"
      ],
      "execution_count": 32,
      "outputs": [
        {
          "output_type": "stream",
          "text": [
            "boston_bull\n",
            "(array([19]),)\n",
            "19\n",
            "[0 0 0 0 0 0 0 0 0 0 0 0 0 0 0 0 0 0 0 1 0 0 0 0 0 0 0 0 0 0 0 0 0 0 0 0 0\n",
            " 0 0 0 0 0 0 0 0 0 0 0 0 0 0 0 0 0 0 0 0 0 0 0 0 0 0 0 0 0 0 0 0 0 0 0 0 0\n",
            " 0 0 0 0 0 0 0 0 0 0 0 0 0 0 0 0 0 0 0 0 0 0 0 0 0 0 0 0 0 0 0 0 0 0 0 0 0\n",
            " 0 0 0 0 0 0 0 0 0]\n"
          ],
          "name": "stdout"
        }
      ]
    },
    {
      "cell_type": "code",
      "metadata": {
        "id": "19itzTdjUkpa",
        "colab_type": "code",
        "colab": {
          "base_uri": "https://localhost:8080/",
          "height": 35
        },
        "outputId": "66c11d74-47ef-4875-f08e-55539bff6b61"
      },
      "source": [
        "labels[0]"
      ],
      "execution_count": 33,
      "outputs": [
        {
          "output_type": "execute_result",
          "data": {
            "application/vnd.google.colaboratory.intrinsic+json": {
              "type": "string"
            },
            "text/plain": [
              "'boston_bull'"
            ]
          },
          "metadata": {
            "tags": []
          },
          "execution_count": 33
        }
      ]
    },
    {
      "cell_type": "code",
      "metadata": {
        "id": "puu8eznpUmKC",
        "colab_type": "code",
        "colab": {
          "base_uri": "https://localhost:8080/",
          "height": 102
        },
        "outputId": "75aa52ec-0b57-4e02-9814-eedfdbe46247"
      },
      "source": [
        "print(labels[2])\n",
        "print(boolean_labels[2].astype(int))"
      ],
      "execution_count": 34,
      "outputs": [
        {
          "output_type": "stream",
          "text": [
            "pekinese\n",
            "[0 0 0 0 0 0 0 0 0 0 0 0 0 0 0 0 0 0 0 0 0 0 0 0 0 0 0 0 0 0 0 0 0 0 0 0 0\n",
            " 0 0 0 0 0 0 0 0 0 0 0 0 0 0 0 0 0 0 0 0 0 0 0 0 0 0 0 0 0 0 0 0 0 0 0 0 0\n",
            " 0 0 0 0 0 0 0 0 0 0 0 1 0 0 0 0 0 0 0 0 0 0 0 0 0 0 0 0 0 0 0 0 0 0 0 0 0\n",
            " 0 0 0 0 0 0 0 0 0]\n"
          ],
          "name": "stdout"
        }
      ]
    },
    {
      "cell_type": "code",
      "metadata": {
        "id": "d7WVHP0dVNoP",
        "colab_type": "code",
        "colab": {
          "base_uri": "https://localhost:8080/",
          "height": 392
        },
        "outputId": "22c8dd8f-c65c-4a07-de36-f35cf974ea1c"
      },
      "source": [
        "Image(\"drive/My Drive/Dogvision/train/001513dfcb2ffafc82cccf4d8bbaba97.jpg\")"
      ],
      "execution_count": 35,
      "outputs": [
        {
          "output_type": "execute_result",
          "data": {
            "image/jpeg": "[encoded data removed]",
            "text/plain": [
              "<IPython.core.display.Image object>"
            ]
          },
          "metadata": {
            "tags": []
          },
          "execution_count": 35
        }
      ]
    },
    {
      "cell_type": "code",
      "metadata": {
        "id": "wat0ZoP_Vjst",
        "colab_type": "code",
        "colab": {}
      },
      "source": [
        "NUM_IMAGES=1000 #@param {type:\"slider\",min:1000,max:10000}"
      ],
      "execution_count": 36,
      "outputs": []
    },
    {
      "cell_type": "code",
      "metadata": {
        "id": "Q5B5aIxZam_l",
        "colab_type": "code",
        "colab": {}
      },
      "source": [
        "from sklearn.model_selection import train_test_split\n",
        "x_train,x_val,y_train,y_val=train_test_split(X[:NUM_IMAGES],y[:NUM_IMAGES],test_size=0.2,random_state=42)"
      ],
      "execution_count": 37,
      "outputs": []
    },
    {
      "cell_type": "code",
      "metadata": {
        "id": "wVasGHPYbRxn",
        "colab_type": "code",
        "colab": {
          "base_uri": "https://localhost:8080/",
          "height": 34
        },
        "outputId": "47242568-9090-41e0-8bd2-17badacc6d47"
      },
      "source": [
        "len(x_train),len(x_val),len(y_train),len(y_val)"
      ],
      "execution_count": 38,
      "outputs": [
        {
          "output_type": "execute_result",
          "data": {
            "text/plain": [
              "(800, 200, 800, 200)"
            ]
          },
          "metadata": {
            "tags": []
          },
          "execution_count": 38
        }
      ]
    },
    {
      "cell_type": "code",
      "metadata": {
        "id": "ykstg4NybxC4",
        "colab_type": "code",
        "colab": {
          "base_uri": "https://localhost:8080/",
          "height": 187
        },
        "outputId": "df3222af-733c-4191-fb6f-4ccde05e3953"
      },
      "source": [
        "x_train[:10]"
      ],
      "execution_count": 39,
      "outputs": [
        {
          "output_type": "execute_result",
          "data": {
            "text/plain": [
              "['drive/My Drive/Dogvision/train/00bee065dcec471f26394855c5c2f3de.jpg',\n",
              " 'drive/My Drive/Dogvision/train/0d2f9e12a2611d911d91a339074c8154.jpg',\n",
              " 'drive/My Drive/Dogvision/train/1108e48ce3e2d7d7fb527ae6e40ab486.jpg',\n",
              " 'drive/My Drive/Dogvision/train/0dc3196b4213a2733d7f4bdcd41699d3.jpg',\n",
              " 'drive/My Drive/Dogvision/train/146fbfac6b5b1f0de83a5d0c1b473377.jpg',\n",
              " 'drive/My Drive/Dogvision/train/0ea5759640f2e1c2d1a06adaf8a54ca7.jpg',\n",
              " 'drive/My Drive/Dogvision/train/03e1d2ee5fd90aef036c90a9e7f81177.jpg',\n",
              " 'drive/My Drive/Dogvision/train/16941a6728ddb9cb7423a6cc97fbe071.jpg',\n",
              " 'drive/My Drive/Dogvision/train/0bedbecd92390ef9f4f7c8b06a629340.jpg',\n",
              " 'drive/My Drive/Dogvision/train/143b9484273e57668d03bfc26755810a.jpg']"
            ]
          },
          "metadata": {
            "tags": []
          },
          "execution_count": 39
        }
      ]
    },
    {
      "cell_type": "code",
      "metadata": {
        "id": "Ol8VaWOTb_Fh",
        "colab_type": "code",
        "colab": {
          "base_uri": "https://localhost:8080/",
          "height": 493
        },
        "outputId": "d0c992c3-9c67-4823-be83-8d0b17171ac4"
      },
      "source": [
        "y_val[:2][:10]"
      ],
      "execution_count": 40,
      "outputs": [
        {
          "output_type": "execute_result",
          "data": {
            "text/plain": [
              "[array([False, False, False, False, False, False, False, False, False,\n",
              "        False, False, False, False, False, False, False, False, False,\n",
              "        False, False, False, False, False, False, False, False,  True,\n",
              "        False, False, False, False, False, False, False, False, False,\n",
              "        False, False, False, False, False, False, False, False, False,\n",
              "        False, False, False, False, False, False, False, False, False,\n",
              "        False, False, False, False, False, False, False, False, False,\n",
              "        False, False, False, False, False, False, False, False, False,\n",
              "        False, False, False, False, False, False, False, False, False,\n",
              "        False, False, False, False, False, False, False, False, False,\n",
              "        False, False, False, False, False, False, False, False, False,\n",
              "        False, False, False, False, False, False, False, False, False,\n",
              "        False, False, False, False, False, False, False, False, False,\n",
              "        False, False, False]),\n",
              " array([False, False, False, False, False, False, False, False, False,\n",
              "        False, False, False, False, False, False, False, False, False,\n",
              "        False, False, False, False, False, False, False, False, False,\n",
              "        False, False, False, False, False, False, False, False, False,\n",
              "        False, False, False, False, False, False, False, False, False,\n",
              "        False, False, False, False, False, False, False, False, False,\n",
              "        False, False, False, False, False, False, False, False, False,\n",
              "        False, False, False, False, False, False, False, False, False,\n",
              "        False, False, False, False, False, False, False, False, False,\n",
              "        False, False, False, False, False, False, False, False, False,\n",
              "        False, False, False, False, False, False,  True, False, False,\n",
              "        False, False, False, False, False, False, False, False, False,\n",
              "        False, False, False, False, False, False, False, False, False,\n",
              "        False, False, False])]"
            ]
          },
          "metadata": {
            "tags": []
          },
          "execution_count": 40
        }
      ]
    },
    {
      "cell_type": "markdown",
      "metadata": {
        "id": "U5nBwt8Re68E",
        "colab_type": "text"
      },
      "source": [
        " ## PreProcessing The Images into tensors\n",
        " Turning the Images into Tensors using Function\n"
      ]
    },
    {
      "cell_type": "code",
      "metadata": {
        "id": "jXDXpYSge6Rd",
        "colab_type": "code",
        "colab": {}
      },
      "source": [
        "from matplotlib.pyplot import imread\n",
        "image=imread(file_path[42])"
      ],
      "execution_count": 42,
      "outputs": []
    },
    {
      "cell_type": "code",
      "metadata": {
        "id": "c6ebpp3ljHZr",
        "colab_type": "code",
        "colab": {
          "base_uri": "https://localhost:8080/",
          "height": 34
        },
        "outputId": "ee679900-2630-4511-fc7e-2f121f109041"
      },
      "source": [
        "image.shape"
      ],
      "execution_count": 43,
      "outputs": [
        {
          "output_type": "execute_result",
          "data": {
            "text/plain": [
              "(257, 350, 3)"
            ]
          },
          "metadata": {
            "tags": []
          },
          "execution_count": 43
        }
      ]
    },
    {
      "cell_type": "code",
      "metadata": {
        "id": "y2N7TS3Tk5pr",
        "colab_type": "code",
        "colab": {
          "base_uri": "https://localhost:8080/",
          "height": 289
        },
        "outputId": "ec2a7bb4-135e-49f0-dcf9-612734249bb8"
      },
      "source": [
        "tf.constant(image)[:2]"
      ],
      "execution_count": 44,
      "outputs": [
        {
          "output_type": "execute_result",
          "data": {
            "text/plain": [
              "<tf.Tensor: shape=(2, 350, 3), dtype=uint8, numpy=\n",
              "array([[[ 89, 137,  87],\n",
              "        [ 76, 124,  74],\n",
              "        [ 63, 111,  59],\n",
              "        ...,\n",
              "        [ 76, 134,  86],\n",
              "        [ 76, 134,  86],\n",
              "        [ 76, 134,  86]],\n",
              "\n",
              "       [[ 72, 119,  73],\n",
              "        [ 67, 114,  68],\n",
              "        [ 63, 111,  63],\n",
              "        ...,\n",
              "        [ 75, 131,  84],\n",
              "        [ 74, 132,  84],\n",
              "        [ 74, 131,  86]]], dtype=uint8)>"
            ]
          },
          "metadata": {
            "tags": []
          },
          "execution_count": 44
        }
      ]
    },
    {
      "cell_type": "markdown",
      "metadata": {
        "id": "qr80tH5sqXFf",
        "colab_type": "text"
      },
      "source": [
        "Now we've seen what an image looks like as a Tensor, let's make a function to preprocess them.\n",
        "\n",
        "We'll create a function to:\n",
        "\n",
        "1.Take an image filepath as input\n",
        "\n",
        "2.Use TensorFlow to read the file and save it to a variable image\n",
        "\n",
        "3.Turn our image (a jpg) into Tensors\n",
        "\n",
        "4.Normalize our image (convert color channel values         from    (0-255 to 0-1).\n",
        "5.Resize the image to be a shape of (224, 224)\n",
        "\n",
        "6.Return the modified image\n",
        "More information on loading images in TensorFlow can be seen here: https://www.tensorflow.org/tutorials/load_data/images"
      ]
    },
    {
      "cell_type": "code",
      "metadata": {
        "id": "E_2iY_m7jRe9",
        "colab_type": "code",
        "colab": {
          "base_uri": "https://localhost:8080/",
          "height": 34
        },
        "outputId": "651bbb59-09e6-4757-e22e-79bc61dee7b4"
      },
      "source": [
        "image.min(),image.max()"
      ],
      "execution_count": 45,
      "outputs": [
        {
          "output_type": "execute_result",
          "data": {
            "text/plain": [
              "(0, 255)"
            ]
          },
          "metadata": {
            "tags": []
          },
          "execution_count": 45
        }
      ]
    },
    {
      "cell_type": "code",
      "metadata": {
        "id": "AUFAbwJHrBF8",
        "colab_type": "code",
        "colab": {}
      },
      "source": [
        "Img_size=224\n",
        "def process_images(file,img_size=Img_size):\n",
        "  \"Read file as an Image\"\n",
        "  image=tf.io.read_file(file)\n",
        "  \"Turn Numerical Tensors into Channels colors with 3 red, green,blue\"\n",
        "  image=tf.image.decode_jpeg(image,channels=3)\n",
        "  image=tf.image.convert_image_dtype(image,tf.float32)\n",
        "  image=tf.image.resize(image,size=[Img_size,Img_size])\n",
        "  return image"
      ],
      "execution_count": 74,
      "outputs": []
    },
    {
      "cell_type": "code",
      "metadata": {
        "id": "kml_mbpXuRI_",
        "colab_type": "code",
        "colab": {}
      },
      "source": [
        "#ten=tf.io.read_file(file_path[3])"
      ],
      "execution_count": 64,
      "outputs": []
    },
    {
      "cell_type": "code",
      "metadata": {
        "id": "dP6QG_Izubpx",
        "colab_type": "code",
        "colab": {}
      },
      "source": [
        "#ten"
      ],
      "execution_count": 65,
      "outputs": []
    },
    {
      "cell_type": "code",
      "metadata": {
        "id": "emjBPumUvuah",
        "colab_type": "code",
        "colab": {}
      },
      "source": [
        "#ten=tf.image.decode_jpeg(ten,channels=3)"
      ],
      "execution_count": 66,
      "outputs": []
    },
    {
      "cell_type": "code",
      "metadata": {
        "id": "HPp6dap_v1D5",
        "colab_type": "code",
        "colab": {}
      },
      "source": [
        "#ten"
      ],
      "execution_count": 67,
      "outputs": []
    },
    {
      "cell_type": "code",
      "metadata": {
        "id": "RUybkMJ2ucbb",
        "colab_type": "code",
        "colab": {}
      },
      "source": [
        "# ten=tf.image.convert_image_dtype(ten,tf.float32)"
      ],
      "execution_count": 68,
      "outputs": []
    },
    {
      "cell_type": "code",
      "metadata": {
        "id": "HdKdLLw0vzIe",
        "colab_type": "code",
        "colab": {}
      },
      "source": [
        "#ten"
      ],
      "execution_count": 69,
      "outputs": []
    },
    {
      "cell_type": "code",
      "metadata": {
        "id": "MDjS2nR-xC6x",
        "colab_type": "code",
        "colab": {}
      },
      "source": [
        "p=process_images(file_path[2])"
      ],
      "execution_count": 75,
      "outputs": []
    },
    {
      "cell_type": "code",
      "metadata": {
        "id": "jOqNMhBmxJEn",
        "colab_type": "code",
        "colab": {}
      },
      "source": [
        "print(p)"
      ],
      "execution_count": 77,
      "outputs": []
    },
    {
      "cell_type": "code",
      "metadata": {
        "id": "J90cZ0AMxM6w",
        "colab_type": "code",
        "colab": {}
      },
      "source": [
        ""
      ],
      "execution_count": null,
      "outputs": []
    }
  ]
}