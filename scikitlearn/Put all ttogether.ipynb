{
 "cells": [
  {
   "cell_type": "code",
   "execution_count": 1,
   "metadata": {},
   "outputs": [],
   "source": [
    "import pandas as pd\n",
    "%matplotlib inline\n",
    "import matplotlib as mpl\n",
    "import numpy as n"
   ]
  },
  {
   "cell_type": "code",
   "execution_count": 2,
   "metadata": {},
   "outputs": [],
   "source": [
    "data=pd.read_csv(\"1 car-sales-extended-missing-data.csv.csv\")"
   ]
  },
  {
   "cell_type": "code",
   "execution_count": 5,
   "metadata": {},
   "outputs": [
    {
     "data": {
      "text/plain": [
       "Make             49\n",
       "Colour           50\n",
       "Odometer (KM)    50\n",
       "Doors            50\n",
       "Price            50\n",
       "dtype: int64"
      ]
     },
     "execution_count": 5,
     "metadata": {},
     "output_type": "execute_result"
    }
   ],
   "source": [
    "data.isna().sum()"
   ]
  },
  {
   "cell_type": "markdown",
   "metadata": {},
   "source": [
    "All in One cell"
   ]
  },
  {
   "cell_type": "code",
   "execution_count": 18,
   "metadata": {},
   "outputs": [
    {
     "data": {
      "text/plain": [
       "0.22188417408787875"
      ]
     },
     "execution_count": 18,
     "metadata": {},
     "output_type": "execute_result"
    }
   ],
   "source": [
    "#Getting Data Ready\n",
    "from sklearn.compose import ColumnTransformer\n",
    "from sklearn.pipeline import Pipeline\n",
    "from sklearn.impute import SimpleImputer\n",
    "from sklearn.preprocessing import OneHotEncoder\n",
    "#Modeling Our Data\n",
    "from sklearn.ensemble import RandomForestRegressor\n",
    "from sklearn.model_selection import train_test_split,GridSearchCV\n",
    "#setting up the Random seed\n",
    "n.random.seed(42)\n",
    "#import the data \n",
    "data=pd.read_csv(\"1 car-sales-extended-missing-data.csv.csv\")\n",
    "data.dropna(subset=[\"Price\"],inplace=True)\n",
    "#Imputer section\n",
    "categorical_features=[\"Make\",\"Colour\"]\n",
    "categorical_transfrom=Pipeline(steps=[\n",
    "                                      (\"imputer\",SimpleImputer(strategy=\"constant\",fill_value=\"missing\")),\n",
    "                                      (\"OneHot\",OneHotEncoder(handle_unknown=\"ignore\"))\n",
    "                                       ]\n",
    "                                      )\n",
    "door_features=[\"Doors\"]\n",
    "numerical_features=[\"Odometer (KM)\"]\n",
    "door_transform=Pipeline(steps=[(\"imputer\",SimpleImputer(strategy=\"constant\",fill_value=4))])\n",
    "numerical_transform=Pipeline(steps=[(\"imputer\",SimpleImputer(strategy=\"mean\"))])\n",
    "preprocessor=ColumnTransformer(transformers=[\n",
    "                                                (\"cat\",categorical_transfrom,categorical_features),\n",
    "                                                (\"door\",door_transform,door_features),\n",
    "                                                (\"Odo\",numerical_transform,numerical_features)\n",
    "                                           ]\n",
    "                              )\n",
    "model=Pipeline(steps=[(\"preprocessing\",preprocessor),\n",
    "                     (\"model\",RandomForestRegressor())\n",
    "                     ])\n",
    "x=data.drop(\"Price\",axis=1)\n",
    "y=data[\"Price\"]\n",
    "x_train,x_test,y_train,y_test=train_test_split(x,y,test_size=0.2)\n",
    "model.fit(x_train,y_train)\n",
    "model.score(x_test,y_test)"
   ]
  },
  {
   "cell_type": "markdown",
   "metadata": {},
   "source": []
  }
 ],
 "metadata": {
  "kernelspec": {
   "display_name": "Python 3",
   "language": "python",
   "name": "python3"
  },
  "language_info": {
   "codemirror_mode": {
    "name": "ipython",
    "version": 3
   },
   "file_extension": ".py",
   "mimetype": "text/x-python",
   "name": "python",
   "nbconvert_exporter": "python",
   "pygments_lexer": "ipython3",
   "version": "3.7.6"
  }
 },
 "nbformat": 4,
 "nbformat_minor": 4
}
